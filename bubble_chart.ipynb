{
 "cells": [
  {
   "cell_type": "code",
   "execution_count": 7,
   "id": "4b28df91",
   "metadata": {},
   "outputs": [],
   "source": [
    "import plotly.graph_objects as go\n",
    "import plotly.express as px\n",
    "import chart_studio"
   ]
  },
  {
   "cell_type": "markdown",
   "id": "98a27245",
   "metadata": {},
   "source": [
    "# nmr_property_frequency\n",
    "x : property\n",
    "\n",
    "y : frequency"
   ]
  },
  {
   "cell_type": "code",
   "execution_count": 8,
   "id": "780e60df",
   "metadata": {},
   "outputs": [
    {
     "data": {
      "application/vnd.plotly.v1+json": {
       "config": {
        "plotlyServerURL": "https://plot.ly"
       },
       "data": [
        {
         "marker": {
          "color": [
           "rgb(93, 164, 214)",
           "rgb(255, 144, 14)",
           "rgb(44, 160, 101)",
           "rgb(255, 65, 54)"
          ],
          "size": [
           40,
           60,
           80,
           100,
           120
          ]
         },
         "mode": "markers",
         "text": [
          "staphylococcus hominis: 3",
          "regulation: 2",
          "apoptosis: 2<br>cancer: 2",
          "nmr: 3<br>laczy: 2",
          "antimicrobial peptide: 3<br>hominicin: 3<br>antit: 3"
         ],
         "type": "scatter",
         "x": [
          "source",
          "연구주제(기능)",
          "연구주제(그외-biological process)",
          "analysis method",
          "material"
         ],
         "y": [
          1,
          1,
          2,
          3,
          9
         ]
        }
       ],
       "layout": {
        "template": {
         "data": {
          "bar": [
           {
            "error_x": {
             "color": "#2a3f5f"
            },
            "error_y": {
             "color": "#2a3f5f"
            },
            "marker": {
             "line": {
              "color": "#E5ECF6",
              "width": 0.5
             },
             "pattern": {
              "fillmode": "overlay",
              "size": 10,
              "solidity": 0.2
             }
            },
            "type": "bar"
           }
          ],
          "barpolar": [
           {
            "marker": {
             "line": {
              "color": "#E5ECF6",
              "width": 0.5
             },
             "pattern": {
              "fillmode": "overlay",
              "size": 10,
              "solidity": 0.2
             }
            },
            "type": "barpolar"
           }
          ],
          "carpet": [
           {
            "aaxis": {
             "endlinecolor": "#2a3f5f",
             "gridcolor": "white",
             "linecolor": "white",
             "minorgridcolor": "white",
             "startlinecolor": "#2a3f5f"
            },
            "baxis": {
             "endlinecolor": "#2a3f5f",
             "gridcolor": "white",
             "linecolor": "white",
             "minorgridcolor": "white",
             "startlinecolor": "#2a3f5f"
            },
            "type": "carpet"
           }
          ],
          "choropleth": [
           {
            "colorbar": {
             "outlinewidth": 0,
             "ticks": ""
            },
            "type": "choropleth"
           }
          ],
          "contour": [
           {
            "colorbar": {
             "outlinewidth": 0,
             "ticks": ""
            },
            "colorscale": [
             [
              0,
              "#0d0887"
             ],
             [
              0.1111111111111111,
              "#46039f"
             ],
             [
              0.2222222222222222,
              "#7201a8"
             ],
             [
              0.3333333333333333,
              "#9c179e"
             ],
             [
              0.4444444444444444,
              "#bd3786"
             ],
             [
              0.5555555555555556,
              "#d8576b"
             ],
             [
              0.6666666666666666,
              "#ed7953"
             ],
             [
              0.7777777777777778,
              "#fb9f3a"
             ],
             [
              0.8888888888888888,
              "#fdca26"
             ],
             [
              1,
              "#f0f921"
             ]
            ],
            "type": "contour"
           }
          ],
          "contourcarpet": [
           {
            "colorbar": {
             "outlinewidth": 0,
             "ticks": ""
            },
            "type": "contourcarpet"
           }
          ],
          "heatmap": [
           {
            "colorbar": {
             "outlinewidth": 0,
             "ticks": ""
            },
            "colorscale": [
             [
              0,
              "#0d0887"
             ],
             [
              0.1111111111111111,
              "#46039f"
             ],
             [
              0.2222222222222222,
              "#7201a8"
             ],
             [
              0.3333333333333333,
              "#9c179e"
             ],
             [
              0.4444444444444444,
              "#bd3786"
             ],
             [
              0.5555555555555556,
              "#d8576b"
             ],
             [
              0.6666666666666666,
              "#ed7953"
             ],
             [
              0.7777777777777778,
              "#fb9f3a"
             ],
             [
              0.8888888888888888,
              "#fdca26"
             ],
             [
              1,
              "#f0f921"
             ]
            ],
            "type": "heatmap"
           }
          ],
          "heatmapgl": [
           {
            "colorbar": {
             "outlinewidth": 0,
             "ticks": ""
            },
            "colorscale": [
             [
              0,
              "#0d0887"
             ],
             [
              0.1111111111111111,
              "#46039f"
             ],
             [
              0.2222222222222222,
              "#7201a8"
             ],
             [
              0.3333333333333333,
              "#9c179e"
             ],
             [
              0.4444444444444444,
              "#bd3786"
             ],
             [
              0.5555555555555556,
              "#d8576b"
             ],
             [
              0.6666666666666666,
              "#ed7953"
             ],
             [
              0.7777777777777778,
              "#fb9f3a"
             ],
             [
              0.8888888888888888,
              "#fdca26"
             ],
             [
              1,
              "#f0f921"
             ]
            ],
            "type": "heatmapgl"
           }
          ],
          "histogram": [
           {
            "marker": {
             "pattern": {
              "fillmode": "overlay",
              "size": 10,
              "solidity": 0.2
             }
            },
            "type": "histogram"
           }
          ],
          "histogram2d": [
           {
            "colorbar": {
             "outlinewidth": 0,
             "ticks": ""
            },
            "colorscale": [
             [
              0,
              "#0d0887"
             ],
             [
              0.1111111111111111,
              "#46039f"
             ],
             [
              0.2222222222222222,
              "#7201a8"
             ],
             [
              0.3333333333333333,
              "#9c179e"
             ],
             [
              0.4444444444444444,
              "#bd3786"
             ],
             [
              0.5555555555555556,
              "#d8576b"
             ],
             [
              0.6666666666666666,
              "#ed7953"
             ],
             [
              0.7777777777777778,
              "#fb9f3a"
             ],
             [
              0.8888888888888888,
              "#fdca26"
             ],
             [
              1,
              "#f0f921"
             ]
            ],
            "type": "histogram2d"
           }
          ],
          "histogram2dcontour": [
           {
            "colorbar": {
             "outlinewidth": 0,
             "ticks": ""
            },
            "colorscale": [
             [
              0,
              "#0d0887"
             ],
             [
              0.1111111111111111,
              "#46039f"
             ],
             [
              0.2222222222222222,
              "#7201a8"
             ],
             [
              0.3333333333333333,
              "#9c179e"
             ],
             [
              0.4444444444444444,
              "#bd3786"
             ],
             [
              0.5555555555555556,
              "#d8576b"
             ],
             [
              0.6666666666666666,
              "#ed7953"
             ],
             [
              0.7777777777777778,
              "#fb9f3a"
             ],
             [
              0.8888888888888888,
              "#fdca26"
             ],
             [
              1,
              "#f0f921"
             ]
            ],
            "type": "histogram2dcontour"
           }
          ],
          "mesh3d": [
           {
            "colorbar": {
             "outlinewidth": 0,
             "ticks": ""
            },
            "type": "mesh3d"
           }
          ],
          "parcoords": [
           {
            "line": {
             "colorbar": {
              "outlinewidth": 0,
              "ticks": ""
             }
            },
            "type": "parcoords"
           }
          ],
          "pie": [
           {
            "automargin": true,
            "type": "pie"
           }
          ],
          "scatter": [
           {
            "fillpattern": {
             "fillmode": "overlay",
             "size": 10,
             "solidity": 0.2
            },
            "type": "scatter"
           }
          ],
          "scatter3d": [
           {
            "line": {
             "colorbar": {
              "outlinewidth": 0,
              "ticks": ""
             }
            },
            "marker": {
             "colorbar": {
              "outlinewidth": 0,
              "ticks": ""
             }
            },
            "type": "scatter3d"
           }
          ],
          "scattercarpet": [
           {
            "marker": {
             "colorbar": {
              "outlinewidth": 0,
              "ticks": ""
             }
            },
            "type": "scattercarpet"
           }
          ],
          "scattergeo": [
           {
            "marker": {
             "colorbar": {
              "outlinewidth": 0,
              "ticks": ""
             }
            },
            "type": "scattergeo"
           }
          ],
          "scattergl": [
           {
            "marker": {
             "colorbar": {
              "outlinewidth": 0,
              "ticks": ""
             }
            },
            "type": "scattergl"
           }
          ],
          "scattermapbox": [
           {
            "marker": {
             "colorbar": {
              "outlinewidth": 0,
              "ticks": ""
             }
            },
            "type": "scattermapbox"
           }
          ],
          "scatterpolar": [
           {
            "marker": {
             "colorbar": {
              "outlinewidth": 0,
              "ticks": ""
             }
            },
            "type": "scatterpolar"
           }
          ],
          "scatterpolargl": [
           {
            "marker": {
             "colorbar": {
              "outlinewidth": 0,
              "ticks": ""
             }
            },
            "type": "scatterpolargl"
           }
          ],
          "scatterternary": [
           {
            "marker": {
             "colorbar": {
              "outlinewidth": 0,
              "ticks": ""
             }
            },
            "type": "scatterternary"
           }
          ],
          "surface": [
           {
            "colorbar": {
             "outlinewidth": 0,
             "ticks": ""
            },
            "colorscale": [
             [
              0,
              "#0d0887"
             ],
             [
              0.1111111111111111,
              "#46039f"
             ],
             [
              0.2222222222222222,
              "#7201a8"
             ],
             [
              0.3333333333333333,
              "#9c179e"
             ],
             [
              0.4444444444444444,
              "#bd3786"
             ],
             [
              0.5555555555555556,
              "#d8576b"
             ],
             [
              0.6666666666666666,
              "#ed7953"
             ],
             [
              0.7777777777777778,
              "#fb9f3a"
             ],
             [
              0.8888888888888888,
              "#fdca26"
             ],
             [
              1,
              "#f0f921"
             ]
            ],
            "type": "surface"
           }
          ],
          "table": [
           {
            "cells": {
             "fill": {
              "color": "#EBF0F8"
             },
             "line": {
              "color": "white"
             }
            },
            "header": {
             "fill": {
              "color": "#C8D4E3"
             },
             "line": {
              "color": "white"
             }
            },
            "type": "table"
           }
          ]
         },
         "layout": {
          "annotationdefaults": {
           "arrowcolor": "#2a3f5f",
           "arrowhead": 0,
           "arrowwidth": 1
          },
          "autotypenumbers": "strict",
          "coloraxis": {
           "colorbar": {
            "outlinewidth": 0,
            "ticks": ""
           }
          },
          "colorscale": {
           "diverging": [
            [
             0,
             "#8e0152"
            ],
            [
             0.1,
             "#c51b7d"
            ],
            [
             0.2,
             "#de77ae"
            ],
            [
             0.3,
             "#f1b6da"
            ],
            [
             0.4,
             "#fde0ef"
            ],
            [
             0.5,
             "#f7f7f7"
            ],
            [
             0.6,
             "#e6f5d0"
            ],
            [
             0.7,
             "#b8e186"
            ],
            [
             0.8,
             "#7fbc41"
            ],
            [
             0.9,
             "#4d9221"
            ],
            [
             1,
             "#276419"
            ]
           ],
           "sequential": [
            [
             0,
             "#0d0887"
            ],
            [
             0.1111111111111111,
             "#46039f"
            ],
            [
             0.2222222222222222,
             "#7201a8"
            ],
            [
             0.3333333333333333,
             "#9c179e"
            ],
            [
             0.4444444444444444,
             "#bd3786"
            ],
            [
             0.5555555555555556,
             "#d8576b"
            ],
            [
             0.6666666666666666,
             "#ed7953"
            ],
            [
             0.7777777777777778,
             "#fb9f3a"
            ],
            [
             0.8888888888888888,
             "#fdca26"
            ],
            [
             1,
             "#f0f921"
            ]
           ],
           "sequentialminus": [
            [
             0,
             "#0d0887"
            ],
            [
             0.1111111111111111,
             "#46039f"
            ],
            [
             0.2222222222222222,
             "#7201a8"
            ],
            [
             0.3333333333333333,
             "#9c179e"
            ],
            [
             0.4444444444444444,
             "#bd3786"
            ],
            [
             0.5555555555555556,
             "#d8576b"
            ],
            [
             0.6666666666666666,
             "#ed7953"
            ],
            [
             0.7777777777777778,
             "#fb9f3a"
            ],
            [
             0.8888888888888888,
             "#fdca26"
            ],
            [
             1,
             "#f0f921"
            ]
           ]
          },
          "colorway": [
           "#636efa",
           "#EF553B",
           "#00cc96",
           "#ab63fa",
           "#FFA15A",
           "#19d3f3",
           "#FF6692",
           "#B6E880",
           "#FF97FF",
           "#FECB52"
          ],
          "font": {
           "color": "#2a3f5f"
          },
          "geo": {
           "bgcolor": "white",
           "lakecolor": "white",
           "landcolor": "#E5ECF6",
           "showlakes": true,
           "showland": true,
           "subunitcolor": "white"
          },
          "hoverlabel": {
           "align": "left"
          },
          "hovermode": "closest",
          "mapbox": {
           "style": "light"
          },
          "paper_bgcolor": "white",
          "plot_bgcolor": "#E5ECF6",
          "polar": {
           "angularaxis": {
            "gridcolor": "white",
            "linecolor": "white",
            "ticks": ""
           },
           "bgcolor": "#E5ECF6",
           "radialaxis": {
            "gridcolor": "white",
            "linecolor": "white",
            "ticks": ""
           }
          },
          "scene": {
           "xaxis": {
            "backgroundcolor": "#E5ECF6",
            "gridcolor": "white",
            "gridwidth": 2,
            "linecolor": "white",
            "showbackground": true,
            "ticks": "",
            "zerolinecolor": "white"
           },
           "yaxis": {
            "backgroundcolor": "#E5ECF6",
            "gridcolor": "white",
            "gridwidth": 2,
            "linecolor": "white",
            "showbackground": true,
            "ticks": "",
            "zerolinecolor": "white"
           },
           "zaxis": {
            "backgroundcolor": "#E5ECF6",
            "gridcolor": "white",
            "gridwidth": 2,
            "linecolor": "white",
            "showbackground": true,
            "ticks": "",
            "zerolinecolor": "white"
           }
          },
          "shapedefaults": {
           "line": {
            "color": "#2a3f5f"
           }
          },
          "ternary": {
           "aaxis": {
            "gridcolor": "white",
            "linecolor": "white",
            "ticks": ""
           },
           "baxis": {
            "gridcolor": "white",
            "linecolor": "white",
            "ticks": ""
           },
           "bgcolor": "#E5ECF6",
           "caxis": {
            "gridcolor": "white",
            "linecolor": "white",
            "ticks": ""
           }
          },
          "title": {
           "x": 0.05
          },
          "xaxis": {
           "automargin": true,
           "gridcolor": "white",
           "linecolor": "white",
           "ticks": "",
           "title": {
            "standoff": 15
           },
           "zerolinecolor": "white",
           "zerolinewidth": 2
          },
          "yaxis": {
           "automargin": true,
           "gridcolor": "white",
           "linecolor": "white",
           "ticks": "",
           "title": {
            "standoff": 15
           },
           "zerolinecolor": "white",
           "zerolinewidth": 2
          }
         }
        }
       }
      },
      "text/html": [
       "<div>                            <div id=\"654bc2d0-8b29-4044-af6d-85680ce73e25\" class=\"plotly-graph-div\" style=\"height:525px; width:100%;\"></div>            <script type=\"text/javascript\">                require([\"plotly\"], function(Plotly) {                    window.PLOTLYENV=window.PLOTLYENV || {};                                    if (document.getElementById(\"654bc2d0-8b29-4044-af6d-85680ce73e25\")) {                    Plotly.newPlot(                        \"654bc2d0-8b29-4044-af6d-85680ce73e25\",                        [{\"marker\":{\"color\":[\"rgb(93, 164, 214)\",\"rgb(255, 144, 14)\",\"rgb(44, 160, 101)\",\"rgb(255, 65, 54)\"],\"size\":[40,60,80,100,120]},\"mode\":\"markers\",\"text\":[\"staphylococcus hominis: 3\",\"regulation: 2\",\"apoptosis: 2<br>cancer: 2\",\"nmr: 3<br>laczy: 2\",\"antimicrobial peptide: 3<br>hominicin: 3<br>antit: 3\"],\"x\":[\"source\",\"\\uc5f0\\uad6c\\uc8fc\\uc81c(\\uae30\\ub2a5)\",\"\\uc5f0\\uad6c\\uc8fc\\uc81c(\\uadf8\\uc678-biological process)\",\"analysis method\",\"material\"],\"y\":[1,1,2,3,9],\"type\":\"scatter\"}],                        {\"template\":{\"data\":{\"histogram2dcontour\":[{\"type\":\"histogram2dcontour\",\"colorbar\":{\"outlinewidth\":0,\"ticks\":\"\"},\"colorscale\":[[0.0,\"#0d0887\"],[0.1111111111111111,\"#46039f\"],[0.2222222222222222,\"#7201a8\"],[0.3333333333333333,\"#9c179e\"],[0.4444444444444444,\"#bd3786\"],[0.5555555555555556,\"#d8576b\"],[0.6666666666666666,\"#ed7953\"],[0.7777777777777778,\"#fb9f3a\"],[0.8888888888888888,\"#fdca26\"],[1.0,\"#f0f921\"]]}],\"choropleth\":[{\"type\":\"choropleth\",\"colorbar\":{\"outlinewidth\":0,\"ticks\":\"\"}}],\"histogram2d\":[{\"type\":\"histogram2d\",\"colorbar\":{\"outlinewidth\":0,\"ticks\":\"\"},\"colorscale\":[[0.0,\"#0d0887\"],[0.1111111111111111,\"#46039f\"],[0.2222222222222222,\"#7201a8\"],[0.3333333333333333,\"#9c179e\"],[0.4444444444444444,\"#bd3786\"],[0.5555555555555556,\"#d8576b\"],[0.6666666666666666,\"#ed7953\"],[0.7777777777777778,\"#fb9f3a\"],[0.8888888888888888,\"#fdca26\"],[1.0,\"#f0f921\"]]}],\"heatmap\":[{\"type\":\"heatmap\",\"colorbar\":{\"outlinewidth\":0,\"ticks\":\"\"},\"colorscale\":[[0.0,\"#0d0887\"],[0.1111111111111111,\"#46039f\"],[0.2222222222222222,\"#7201a8\"],[0.3333333333333333,\"#9c179e\"],[0.4444444444444444,\"#bd3786\"],[0.5555555555555556,\"#d8576b\"],[0.6666666666666666,\"#ed7953\"],[0.7777777777777778,\"#fb9f3a\"],[0.8888888888888888,\"#fdca26\"],[1.0,\"#f0f921\"]]}],\"heatmapgl\":[{\"type\":\"heatmapgl\",\"colorbar\":{\"outlinewidth\":0,\"ticks\":\"\"},\"colorscale\":[[0.0,\"#0d0887\"],[0.1111111111111111,\"#46039f\"],[0.2222222222222222,\"#7201a8\"],[0.3333333333333333,\"#9c179e\"],[0.4444444444444444,\"#bd3786\"],[0.5555555555555556,\"#d8576b\"],[0.6666666666666666,\"#ed7953\"],[0.7777777777777778,\"#fb9f3a\"],[0.8888888888888888,\"#fdca26\"],[1.0,\"#f0f921\"]]}],\"contourcarpet\":[{\"type\":\"contourcarpet\",\"colorbar\":{\"outlinewidth\":0,\"ticks\":\"\"}}],\"contour\":[{\"type\":\"contour\",\"colorbar\":{\"outlinewidth\":0,\"ticks\":\"\"},\"colorscale\":[[0.0,\"#0d0887\"],[0.1111111111111111,\"#46039f\"],[0.2222222222222222,\"#7201a8\"],[0.3333333333333333,\"#9c179e\"],[0.4444444444444444,\"#bd3786\"],[0.5555555555555556,\"#d8576b\"],[0.6666666666666666,\"#ed7953\"],[0.7777777777777778,\"#fb9f3a\"],[0.8888888888888888,\"#fdca26\"],[1.0,\"#f0f921\"]]}],\"surface\":[{\"type\":\"surface\",\"colorbar\":{\"outlinewidth\":0,\"ticks\":\"\"},\"colorscale\":[[0.0,\"#0d0887\"],[0.1111111111111111,\"#46039f\"],[0.2222222222222222,\"#7201a8\"],[0.3333333333333333,\"#9c179e\"],[0.4444444444444444,\"#bd3786\"],[0.5555555555555556,\"#d8576b\"],[0.6666666666666666,\"#ed7953\"],[0.7777777777777778,\"#fb9f3a\"],[0.8888888888888888,\"#fdca26\"],[1.0,\"#f0f921\"]]}],\"mesh3d\":[{\"type\":\"mesh3d\",\"colorbar\":{\"outlinewidth\":0,\"ticks\":\"\"}}],\"scatter\":[{\"fillpattern\":{\"fillmode\":\"overlay\",\"size\":10,\"solidity\":0.2},\"type\":\"scatter\"}],\"parcoords\":[{\"type\":\"parcoords\",\"line\":{\"colorbar\":{\"outlinewidth\":0,\"ticks\":\"\"}}}],\"scatterpolargl\":[{\"type\":\"scatterpolargl\",\"marker\":{\"colorbar\":{\"outlinewidth\":0,\"ticks\":\"\"}}}],\"bar\":[{\"error_x\":{\"color\":\"#2a3f5f\"},\"error_y\":{\"color\":\"#2a3f5f\"},\"marker\":{\"line\":{\"color\":\"#E5ECF6\",\"width\":0.5},\"pattern\":{\"fillmode\":\"overlay\",\"size\":10,\"solidity\":0.2}},\"type\":\"bar\"}],\"scattergeo\":[{\"type\":\"scattergeo\",\"marker\":{\"colorbar\":{\"outlinewidth\":0,\"ticks\":\"\"}}}],\"scatterpolar\":[{\"type\":\"scatterpolar\",\"marker\":{\"colorbar\":{\"outlinewidth\":0,\"ticks\":\"\"}}}],\"histogram\":[{\"marker\":{\"pattern\":{\"fillmode\":\"overlay\",\"size\":10,\"solidity\":0.2}},\"type\":\"histogram\"}],\"scattergl\":[{\"type\":\"scattergl\",\"marker\":{\"colorbar\":{\"outlinewidth\":0,\"ticks\":\"\"}}}],\"scatter3d\":[{\"type\":\"scatter3d\",\"line\":{\"colorbar\":{\"outlinewidth\":0,\"ticks\":\"\"}},\"marker\":{\"colorbar\":{\"outlinewidth\":0,\"ticks\":\"\"}}}],\"scattermapbox\":[{\"type\":\"scattermapbox\",\"marker\":{\"colorbar\":{\"outlinewidth\":0,\"ticks\":\"\"}}}],\"scatterternary\":[{\"type\":\"scatterternary\",\"marker\":{\"colorbar\":{\"outlinewidth\":0,\"ticks\":\"\"}}}],\"scattercarpet\":[{\"type\":\"scattercarpet\",\"marker\":{\"colorbar\":{\"outlinewidth\":0,\"ticks\":\"\"}}}],\"carpet\":[{\"aaxis\":{\"endlinecolor\":\"#2a3f5f\",\"gridcolor\":\"white\",\"linecolor\":\"white\",\"minorgridcolor\":\"white\",\"startlinecolor\":\"#2a3f5f\"},\"baxis\":{\"endlinecolor\":\"#2a3f5f\",\"gridcolor\":\"white\",\"linecolor\":\"white\",\"minorgridcolor\":\"white\",\"startlinecolor\":\"#2a3f5f\"},\"type\":\"carpet\"}],\"table\":[{\"cells\":{\"fill\":{\"color\":\"#EBF0F8\"},\"line\":{\"color\":\"white\"}},\"header\":{\"fill\":{\"color\":\"#C8D4E3\"},\"line\":{\"color\":\"white\"}},\"type\":\"table\"}],\"barpolar\":[{\"marker\":{\"line\":{\"color\":\"#E5ECF6\",\"width\":0.5},\"pattern\":{\"fillmode\":\"overlay\",\"size\":10,\"solidity\":0.2}},\"type\":\"barpolar\"}],\"pie\":[{\"automargin\":true,\"type\":\"pie\"}]},\"layout\":{\"autotypenumbers\":\"strict\",\"colorway\":[\"#636efa\",\"#EF553B\",\"#00cc96\",\"#ab63fa\",\"#FFA15A\",\"#19d3f3\",\"#FF6692\",\"#B6E880\",\"#FF97FF\",\"#FECB52\"],\"font\":{\"color\":\"#2a3f5f\"},\"hovermode\":\"closest\",\"hoverlabel\":{\"align\":\"left\"},\"paper_bgcolor\":\"white\",\"plot_bgcolor\":\"#E5ECF6\",\"polar\":{\"bgcolor\":\"#E5ECF6\",\"angularaxis\":{\"gridcolor\":\"white\",\"linecolor\":\"white\",\"ticks\":\"\"},\"radialaxis\":{\"gridcolor\":\"white\",\"linecolor\":\"white\",\"ticks\":\"\"}},\"ternary\":{\"bgcolor\":\"#E5ECF6\",\"aaxis\":{\"gridcolor\":\"white\",\"linecolor\":\"white\",\"ticks\":\"\"},\"baxis\":{\"gridcolor\":\"white\",\"linecolor\":\"white\",\"ticks\":\"\"},\"caxis\":{\"gridcolor\":\"white\",\"linecolor\":\"white\",\"ticks\":\"\"}},\"coloraxis\":{\"colorbar\":{\"outlinewidth\":0,\"ticks\":\"\"}},\"colorscale\":{\"sequential\":[[0.0,\"#0d0887\"],[0.1111111111111111,\"#46039f\"],[0.2222222222222222,\"#7201a8\"],[0.3333333333333333,\"#9c179e\"],[0.4444444444444444,\"#bd3786\"],[0.5555555555555556,\"#d8576b\"],[0.6666666666666666,\"#ed7953\"],[0.7777777777777778,\"#fb9f3a\"],[0.8888888888888888,\"#fdca26\"],[1.0,\"#f0f921\"]],\"sequentialminus\":[[0.0,\"#0d0887\"],[0.1111111111111111,\"#46039f\"],[0.2222222222222222,\"#7201a8\"],[0.3333333333333333,\"#9c179e\"],[0.4444444444444444,\"#bd3786\"],[0.5555555555555556,\"#d8576b\"],[0.6666666666666666,\"#ed7953\"],[0.7777777777777778,\"#fb9f3a\"],[0.8888888888888888,\"#fdca26\"],[1.0,\"#f0f921\"]],\"diverging\":[[0,\"#8e0152\"],[0.1,\"#c51b7d\"],[0.2,\"#de77ae\"],[0.3,\"#f1b6da\"],[0.4,\"#fde0ef\"],[0.5,\"#f7f7f7\"],[0.6,\"#e6f5d0\"],[0.7,\"#b8e186\"],[0.8,\"#7fbc41\"],[0.9,\"#4d9221\"],[1,\"#276419\"]]},\"xaxis\":{\"gridcolor\":\"white\",\"linecolor\":\"white\",\"ticks\":\"\",\"title\":{\"standoff\":15},\"zerolinecolor\":\"white\",\"automargin\":true,\"zerolinewidth\":2},\"yaxis\":{\"gridcolor\":\"white\",\"linecolor\":\"white\",\"ticks\":\"\",\"title\":{\"standoff\":15},\"zerolinecolor\":\"white\",\"automargin\":true,\"zerolinewidth\":2},\"scene\":{\"xaxis\":{\"backgroundcolor\":\"#E5ECF6\",\"gridcolor\":\"white\",\"linecolor\":\"white\",\"showbackground\":true,\"ticks\":\"\",\"zerolinecolor\":\"white\",\"gridwidth\":2},\"yaxis\":{\"backgroundcolor\":\"#E5ECF6\",\"gridcolor\":\"white\",\"linecolor\":\"white\",\"showbackground\":true,\"ticks\":\"\",\"zerolinecolor\":\"white\",\"gridwidth\":2},\"zaxis\":{\"backgroundcolor\":\"#E5ECF6\",\"gridcolor\":\"white\",\"linecolor\":\"white\",\"showbackground\":true,\"ticks\":\"\",\"zerolinecolor\":\"white\",\"gridwidth\":2}},\"shapedefaults\":{\"line\":{\"color\":\"#2a3f5f\"}},\"annotationdefaults\":{\"arrowcolor\":\"#2a3f5f\",\"arrowhead\":0,\"arrowwidth\":1},\"geo\":{\"bgcolor\":\"white\",\"landcolor\":\"#E5ECF6\",\"subunitcolor\":\"white\",\"showland\":true,\"showlakes\":true,\"lakecolor\":\"white\"},\"title\":{\"x\":0.05},\"mapbox\":{\"style\":\"light\"}}}},                        {\"responsive\": true}                    ).then(function(){\n",
       "                            \n",
       "var gd = document.getElementById('654bc2d0-8b29-4044-af6d-85680ce73e25');\n",
       "var x = new MutationObserver(function (mutations, observer) {{\n",
       "        var display = window.getComputedStyle(gd).display;\n",
       "        if (!display || display === 'none') {{\n",
       "            console.log([gd, 'removed!']);\n",
       "            Plotly.purge(gd);\n",
       "            observer.disconnect();\n",
       "        }}\n",
       "}});\n",
       "\n",
       "// Listen for the removal of the full notebook cells\n",
       "var notebookContainer = gd.closest('#notebook-container');\n",
       "if (notebookContainer) {{\n",
       "    x.observe(notebookContainer, {childList: true});\n",
       "}}\n",
       "\n",
       "// Listen for the clearing of the current output cell\n",
       "var outputEl = gd.closest('.output');\n",
       "if (outputEl) {{\n",
       "    x.observe(outputEl, {childList: true});\n",
       "}}\n",
       "\n",
       "                        })                };                });            </script>        </div>"
      ]
     },
     "metadata": {},
     "output_type": "display_data"
    }
   ],
   "source": [
    "fig = go.Figure(data=[go.Scatter(\n",
    "    x = ['source','연구주제(기능)','연구주제(그외-biological process)','analysis method', 'material'],\n",
    "    y=[1,1, 2, 3, 9],\n",
    "    text=['staphylococcus hominis: 3', 'regulation: 2', 'apoptosis: 2<br>cancer: 2', 'nmr: 3<br>laczy: 2', 'antimicrobial peptide: 3<br>hominicin: 3<br>antit: 3'],\n",
    "    mode='markers',\n",
    "    marker=dict(\n",
    "        color=['rgb(93, 164, 214)', 'rgb(255, 144, 14)',  'rgb(44, 160, 101)', 'rgb(255, 65, 54)'],\n",
    "        size=[40, 60, 80, 100, 120],\n",
    "    )\n",
    ")])\n",
    "\n",
    "fig.show()"
   ]
  },
  {
   "cell_type": "code",
   "execution_count": 9,
   "id": "b5f0cd91",
   "metadata": {
    "scrolled": true
   },
   "outputs": [
    {
     "data": {
      "text/html": [
       "<div>\n",
       "<style scoped>\n",
       "    .dataframe tbody tr th:only-of-type {\n",
       "        vertical-align: middle;\n",
       "    }\n",
       "\n",
       "    .dataframe tbody tr th {\n",
       "        vertical-align: top;\n",
       "    }\n",
       "\n",
       "    .dataframe thead th {\n",
       "        text-align: right;\n",
       "    }\n",
       "</style>\n",
       "<table border=\"1\" class=\"dataframe\">\n",
       "  <thead>\n",
       "    <tr style=\"text-align: right;\">\n",
       "      <th></th>\n",
       "      <th>country</th>\n",
       "      <th>continent</th>\n",
       "      <th>year</th>\n",
       "      <th>frequency</th>\n",
       "      <th>pop</th>\n",
       "      <th>property</th>\n",
       "      <th>text</th>\n",
       "    </tr>\n",
       "  </thead>\n",
       "  <tbody>\n",
       "    <tr>\n",
       "      <th>0</th>\n",
       "      <td>material</td>\n",
       "      <td>material</td>\n",
       "      <td>2011</td>\n",
       "      <td>9</td>\n",
       "      <td>45</td>\n",
       "      <td>13</td>\n",
       "      <td>hominicin</td>\n",
       "    </tr>\n",
       "    <tr>\n",
       "      <th>1</th>\n",
       "      <td>material</td>\n",
       "      <td>material</td>\n",
       "      <td>2012</td>\n",
       "      <td>24</td>\n",
       "      <td>120</td>\n",
       "      <td>13</td>\n",
       "      <td>hsp33</td>\n",
       "    </tr>\n",
       "    <tr>\n",
       "      <th>2</th>\n",
       "      <td>material</td>\n",
       "      <td>material</td>\n",
       "      <td>2013</td>\n",
       "      <td>18</td>\n",
       "      <td>80</td>\n",
       "      <td>13</td>\n",
       "      <td>isocitrate lyase</td>\n",
       "    </tr>\n",
       "    <tr>\n",
       "      <th>3</th>\n",
       "      <td>material</td>\n",
       "      <td>material</td>\n",
       "      <td>2014</td>\n",
       "      <td>23</td>\n",
       "      <td>115</td>\n",
       "      <td>13</td>\n",
       "      <td>metallop</td>\n",
       "    </tr>\n",
       "    <tr>\n",
       "      <th>4</th>\n",
       "      <td>material</td>\n",
       "      <td>material</td>\n",
       "      <td>2015</td>\n",
       "      <td>16</td>\n",
       "      <td>90</td>\n",
       "      <td>13</td>\n",
       "      <td>calmodulin</td>\n",
       "    </tr>\n",
       "    <tr>\n",
       "      <th>5</th>\n",
       "      <td>material</td>\n",
       "      <td>material</td>\n",
       "      <td>2016</td>\n",
       "      <td>16</td>\n",
       "      <td>90</td>\n",
       "      <td>13</td>\n",
       "      <td>asteropsin f</td>\n",
       "    </tr>\n",
       "    <tr>\n",
       "      <th>6</th>\n",
       "      <td>material</td>\n",
       "      <td>material</td>\n",
       "      <td>2017</td>\n",
       "      <td>28</td>\n",
       "      <td>140</td>\n",
       "      <td>13</td>\n",
       "      <td>angiogenin</td>\n",
       "    </tr>\n",
       "    <tr>\n",
       "      <th>7</th>\n",
       "      <td>material</td>\n",
       "      <td>material</td>\n",
       "      <td>2018</td>\n",
       "      <td>22</td>\n",
       "      <td>110</td>\n",
       "      <td>13</td>\n",
       "      <td>nuclease</td>\n",
       "    </tr>\n",
       "    <tr>\n",
       "      <th>8</th>\n",
       "      <td>material</td>\n",
       "      <td>material</td>\n",
       "      <td>2019</td>\n",
       "      <td>3</td>\n",
       "      <td>15</td>\n",
       "      <td>13</td>\n",
       "      <td>mul1</td>\n",
       "    </tr>\n",
       "    <tr>\n",
       "      <th>9</th>\n",
       "      <td>material</td>\n",
       "      <td>material</td>\n",
       "      <td>2020</td>\n",
       "      <td>17</td>\n",
       "      <td>85</td>\n",
       "      <td>13</td>\n",
       "      <td>dna</td>\n",
       "    </tr>\n",
       "    <tr>\n",
       "      <th>10</th>\n",
       "      <td>material</td>\n",
       "      <td>material</td>\n",
       "      <td>2021</td>\n",
       "      <td>13</td>\n",
       "      <td>65</td>\n",
       "      <td>13</td>\n",
       "      <td>prednisone</td>\n",
       "    </tr>\n",
       "    <tr>\n",
       "      <th>11</th>\n",
       "      <td>연구주제</td>\n",
       "      <td>연구주제(특성)</td>\n",
       "      <td>2011</td>\n",
       "      <td>0</td>\n",
       "      <td>0</td>\n",
       "      <td>10</td>\n",
       "      <td>NaN</td>\n",
       "    </tr>\n",
       "    <tr>\n",
       "      <th>12</th>\n",
       "      <td>연구주제</td>\n",
       "      <td>연구주제(특성)</td>\n",
       "      <td>2012</td>\n",
       "      <td>5</td>\n",
       "      <td>25</td>\n",
       "      <td>10</td>\n",
       "      <td>conformational change</td>\n",
       "    </tr>\n",
       "    <tr>\n",
       "      <th>13</th>\n",
       "      <td>연구주제</td>\n",
       "      <td>연구주제(특성)</td>\n",
       "      <td>2013</td>\n",
       "      <td>8</td>\n",
       "      <td>40</td>\n",
       "      <td>10</td>\n",
       "      <td>cytotoxicity</td>\n",
       "    </tr>\n",
       "    <tr>\n",
       "      <th>14</th>\n",
       "      <td>연구주제</td>\n",
       "      <td>연구주제(특성)</td>\n",
       "      <td>2014</td>\n",
       "      <td>2</td>\n",
       "      <td>10</td>\n",
       "      <td>10</td>\n",
       "      <td>sensory domain</td>\n",
       "    </tr>\n",
       "    <tr>\n",
       "      <th>15</th>\n",
       "      <td>연구주제</td>\n",
       "      <td>연구주제(특성)</td>\n",
       "      <td>2015</td>\n",
       "      <td>3</td>\n",
       "      <td>15</td>\n",
       "      <td>10</td>\n",
       "      <td>hox-dna binding</td>\n",
       "    </tr>\n",
       "    <tr>\n",
       "      <th>16</th>\n",
       "      <td>연구주제</td>\n",
       "      <td>연구주제(특성)</td>\n",
       "      <td>2016</td>\n",
       "      <td>6</td>\n",
       "      <td>30</td>\n",
       "      <td>10</td>\n",
       "      <td>assignment principle</td>\n",
       "    </tr>\n",
       "    <tr>\n",
       "      <th>17</th>\n",
       "      <td>연구주제</td>\n",
       "      <td>연구주제(특성)</td>\n",
       "      <td>2017</td>\n",
       "      <td>6</td>\n",
       "      <td>30</td>\n",
       "      <td>10</td>\n",
       "      <td>crystal structure</td>\n",
       "    </tr>\n",
       "    <tr>\n",
       "      <th>18</th>\n",
       "      <td>연구주제</td>\n",
       "      <td>연구주제(특성)</td>\n",
       "      <td>2018</td>\n",
       "      <td>3</td>\n",
       "      <td>15</td>\n",
       "      <td>10</td>\n",
       "      <td>dimerization</td>\n",
       "    </tr>\n",
       "    <tr>\n",
       "      <th>19</th>\n",
       "      <td>연구주제</td>\n",
       "      <td>연구주제(특성)</td>\n",
       "      <td>2019</td>\n",
       "      <td>1</td>\n",
       "      <td>5</td>\n",
       "      <td>10</td>\n",
       "      <td>solution structure</td>\n",
       "    </tr>\n",
       "    <tr>\n",
       "      <th>20</th>\n",
       "      <td>연구주제</td>\n",
       "      <td>연구주제(특성)</td>\n",
       "      <td>2020</td>\n",
       "      <td>5</td>\n",
       "      <td>25</td>\n",
       "      <td>10</td>\n",
       "      <td>metabolomics</td>\n",
       "    </tr>\n",
       "    <tr>\n",
       "      <th>21</th>\n",
       "      <td>연구주제</td>\n",
       "      <td>연구주제(특성)</td>\n",
       "      <td>2021</td>\n",
       "      <td>8</td>\n",
       "      <td>40</td>\n",
       "      <td>10</td>\n",
       "      <td>metabolomics</td>\n",
       "    </tr>\n",
       "    <tr>\n",
       "      <th>22</th>\n",
       "      <td>연구주제</td>\n",
       "      <td>연구주제(그외-biological process)</td>\n",
       "      <td>2011</td>\n",
       "      <td>2</td>\n",
       "      <td>10</td>\n",
       "      <td>6</td>\n",
       "      <td>apoptosis</td>\n",
       "    </tr>\n",
       "    <tr>\n",
       "      <th>23</th>\n",
       "      <td>연구주제</td>\n",
       "      <td>연구주제(실험기술/방법)</td>\n",
       "      <td>2012</td>\n",
       "      <td>3</td>\n",
       "      <td>15</td>\n",
       "      <td>6</td>\n",
       "      <td>checkpoint signal</td>\n",
       "    </tr>\n",
       "    <tr>\n",
       "      <th>24</th>\n",
       "      <td>연구주제</td>\n",
       "      <td>연구주제(그외-biological process)</td>\n",
       "      <td>2013</td>\n",
       "      <td>4</td>\n",
       "      <td>20</td>\n",
       "      <td>6</td>\n",
       "      <td>cancer</td>\n",
       "    </tr>\n",
       "    <tr>\n",
       "      <th>25</th>\n",
       "      <td>연구주제</td>\n",
       "      <td>연구주제(그외-biological process)</td>\n",
       "      <td>2014</td>\n",
       "      <td>1</td>\n",
       "      <td>5</td>\n",
       "      <td>6</td>\n",
       "      <td>breast cancer</td>\n",
       "    </tr>\n",
       "    <tr>\n",
       "      <th>26</th>\n",
       "      <td>연구주제</td>\n",
       "      <td>연구주제(그외-biological process)</td>\n",
       "      <td>2015</td>\n",
       "      <td>0</td>\n",
       "      <td>0</td>\n",
       "      <td>6</td>\n",
       "      <td>NaN</td>\n",
       "    </tr>\n",
       "    <tr>\n",
       "      <th>27</th>\n",
       "      <td>연구주제</td>\n",
       "      <td>연구주제(그외-biological process)</td>\n",
       "      <td>2016</td>\n",
       "      <td>3</td>\n",
       "      <td>15</td>\n",
       "      <td>6</td>\n",
       "      <td>asthma</td>\n",
       "    </tr>\n",
       "    <tr>\n",
       "      <th>28</th>\n",
       "      <td>연구주제</td>\n",
       "      <td>연구주제(그외-biological process)</td>\n",
       "      <td>2017</td>\n",
       "      <td>2</td>\n",
       "      <td>10</td>\n",
       "      <td>6</td>\n",
       "      <td>oxidative stress</td>\n",
       "    </tr>\n",
       "    <tr>\n",
       "      <th>29</th>\n",
       "      <td>연구주제</td>\n",
       "      <td>연구주제(그외-biological process)</td>\n",
       "      <td>2018</td>\n",
       "      <td>2</td>\n",
       "      <td>10</td>\n",
       "      <td>6</td>\n",
       "      <td>phosphotransferase system</td>\n",
       "    </tr>\n",
       "    <tr>\n",
       "      <th>30</th>\n",
       "      <td>연구주제</td>\n",
       "      <td>연구주제(그외-biological process)</td>\n",
       "      <td>2019</td>\n",
       "      <td>0</td>\n",
       "      <td>0</td>\n",
       "      <td>6</td>\n",
       "      <td>NaN</td>\n",
       "    </tr>\n",
       "    <tr>\n",
       "      <th>31</th>\n",
       "      <td>연구주제</td>\n",
       "      <td>연구주제(그외-biological process)</td>\n",
       "      <td>2020</td>\n",
       "      <td>0</td>\n",
       "      <td>0</td>\n",
       "      <td>6</td>\n",
       "      <td>NaN</td>\n",
       "    </tr>\n",
       "    <tr>\n",
       "      <th>32</th>\n",
       "      <td>연구주제</td>\n",
       "      <td>연구주제(그외-biological process)</td>\n",
       "      <td>2021</td>\n",
       "      <td>4</td>\n",
       "      <td>20</td>\n",
       "      <td>6</td>\n",
       "      <td>rainfall</td>\n",
       "    </tr>\n",
       "    <tr>\n",
       "      <th>33</th>\n",
       "      <td>source</td>\n",
       "      <td>source</td>\n",
       "      <td>2011</td>\n",
       "      <td>1</td>\n",
       "      <td>5</td>\n",
       "      <td>2</td>\n",
       "      <td>staphylococcus hominis</td>\n",
       "    </tr>\n",
       "    <tr>\n",
       "      <th>34</th>\n",
       "      <td>source</td>\n",
       "      <td>source</td>\n",
       "      <td>2012</td>\n",
       "      <td>2</td>\n",
       "      <td>10</td>\n",
       "      <td>2</td>\n",
       "      <td>pichia pastoris</td>\n",
       "    </tr>\n",
       "    <tr>\n",
       "      <th>35</th>\n",
       "      <td>source</td>\n",
       "      <td>source</td>\n",
       "      <td>2013</td>\n",
       "      <td>4</td>\n",
       "      <td>20</td>\n",
       "      <td>2</td>\n",
       "      <td>streptomyces sp</td>\n",
       "    </tr>\n",
       "    <tr>\n",
       "      <th>36</th>\n",
       "      <td>source</td>\n",
       "      <td>source</td>\n",
       "      <td>2014</td>\n",
       "      <td>4</td>\n",
       "      <td>20</td>\n",
       "      <td>2</td>\n",
       "      <td>vibrio vulnificus</td>\n",
       "    </tr>\n",
       "    <tr>\n",
       "      <th>37</th>\n",
       "      <td>source</td>\n",
       "      <td>source</td>\n",
       "      <td>2015</td>\n",
       "      <td>4</td>\n",
       "      <td>20</td>\n",
       "      <td>2</td>\n",
       "      <td>streptomyces sp</td>\n",
       "    </tr>\n",
       "    <tr>\n",
       "      <th>38</th>\n",
       "      <td>source</td>\n",
       "      <td>source</td>\n",
       "      <td>2016</td>\n",
       "      <td>7</td>\n",
       "      <td>35</td>\n",
       "      <td>2</td>\n",
       "      <td>marine sponge</td>\n",
       "    </tr>\n",
       "    <tr>\n",
       "      <th>39</th>\n",
       "      <td>source</td>\n",
       "      <td>source</td>\n",
       "      <td>2017</td>\n",
       "      <td>4</td>\n",
       "      <td>20</td>\n",
       "      <td>2</td>\n",
       "      <td>helicobacter pylori</td>\n",
       "    </tr>\n",
       "    <tr>\n",
       "      <th>40</th>\n",
       "      <td>source</td>\n",
       "      <td>source</td>\n",
       "      <td>2018</td>\n",
       "      <td>9</td>\n",
       "      <td>45</td>\n",
       "      <td>2</td>\n",
       "      <td>cynanchum atratum</td>\n",
       "    </tr>\n",
       "    <tr>\n",
       "      <th>41</th>\n",
       "      <td>source</td>\n",
       "      <td>source</td>\n",
       "      <td>2019</td>\n",
       "      <td>0</td>\n",
       "      <td>0</td>\n",
       "      <td>2</td>\n",
       "      <td>NaN</td>\n",
       "    </tr>\n",
       "    <tr>\n",
       "      <th>42</th>\n",
       "      <td>source</td>\n",
       "      <td>source</td>\n",
       "      <td>2020</td>\n",
       "      <td>6</td>\n",
       "      <td>30</td>\n",
       "      <td>2</td>\n",
       "      <td>soybean gen</td>\n",
       "    </tr>\n",
       "    <tr>\n",
       "      <th>43</th>\n",
       "      <td>source</td>\n",
       "      <td>source</td>\n",
       "      <td>2021</td>\n",
       "      <td>6</td>\n",
       "      <td>30</td>\n",
       "      <td>2</td>\n",
       "      <td>tea</td>\n",
       "    </tr>\n",
       "  </tbody>\n",
       "</table>\n",
       "</div>"
      ],
      "text/plain": [
       "     country                    continent  year  frequency  pop  property  \\\n",
       "0   material                     material  2011          9   45        13   \n",
       "1   material                     material  2012         24  120        13   \n",
       "2   material                     material  2013         18   80        13   \n",
       "3   material                     material  2014         23  115        13   \n",
       "4   material                     material  2015         16   90        13   \n",
       "5   material                     material  2016         16   90        13   \n",
       "6   material                     material  2017         28  140        13   \n",
       "7   material                     material  2018         22  110        13   \n",
       "8   material                     material  2019          3   15        13   \n",
       "9   material                     material  2020         17   85        13   \n",
       "10  material                     material  2021         13   65        13   \n",
       "11      연구주제                     연구주제(특성)  2011          0    0        10   \n",
       "12      연구주제                     연구주제(특성)  2012          5   25        10   \n",
       "13      연구주제                     연구주제(특성)  2013          8   40        10   \n",
       "14      연구주제                     연구주제(특성)  2014          2   10        10   \n",
       "15      연구주제                     연구주제(특성)  2015          3   15        10   \n",
       "16      연구주제                     연구주제(특성)  2016          6   30        10   \n",
       "17      연구주제                     연구주제(특성)  2017          6   30        10   \n",
       "18      연구주제                     연구주제(특성)  2018          3   15        10   \n",
       "19      연구주제                     연구주제(특성)  2019          1    5        10   \n",
       "20      연구주제                     연구주제(특성)  2020          5   25        10   \n",
       "21      연구주제                     연구주제(특성)  2021          8   40        10   \n",
       "22      연구주제  연구주제(그외-biological process)  2011          2   10         6   \n",
       "23      연구주제                연구주제(실험기술/방법)  2012          3   15         6   \n",
       "24      연구주제  연구주제(그외-biological process)  2013          4   20         6   \n",
       "25      연구주제  연구주제(그외-biological process)  2014          1    5         6   \n",
       "26      연구주제  연구주제(그외-biological process)  2015          0    0         6   \n",
       "27      연구주제  연구주제(그외-biological process)  2016          3   15         6   \n",
       "28      연구주제  연구주제(그외-biological process)  2017          2   10         6   \n",
       "29      연구주제  연구주제(그외-biological process)  2018          2   10         6   \n",
       "30      연구주제  연구주제(그외-biological process)  2019          0    0         6   \n",
       "31      연구주제  연구주제(그외-biological process)  2020          0    0         6   \n",
       "32      연구주제  연구주제(그외-biological process)  2021          4   20         6   \n",
       "33    source                       source  2011          1    5         2   \n",
       "34    source                       source  2012          2   10         2   \n",
       "35    source                       source  2013          4   20         2   \n",
       "36    source                       source  2014          4   20         2   \n",
       "37    source                       source  2015          4   20         2   \n",
       "38    source                       source  2016          7   35         2   \n",
       "39    source                       source  2017          4   20         2   \n",
       "40    source                       source  2018          9   45         2   \n",
       "41    source                       source  2019          0    0         2   \n",
       "42    source                       source  2020          6   30         2   \n",
       "43    source                       source  2021          6   30         2   \n",
       "\n",
       "                         text  \n",
       "0                   hominicin  \n",
       "1                       hsp33  \n",
       "2            isocitrate lyase  \n",
       "3                    metallop  \n",
       "4                  calmodulin  \n",
       "5                asteropsin f  \n",
       "6                  angiogenin  \n",
       "7                    nuclease  \n",
       "8                        mul1  \n",
       "9                         dna  \n",
       "10                 prednisone  \n",
       "11                        NaN  \n",
       "12      conformational change  \n",
       "13               cytotoxicity  \n",
       "14             sensory domain  \n",
       "15            hox-dna binding  \n",
       "16       assignment principle  \n",
       "17          crystal structure  \n",
       "18               dimerization  \n",
       "19         solution structure  \n",
       "20               metabolomics  \n",
       "21               metabolomics  \n",
       "22                  apoptosis  \n",
       "23          checkpoint signal  \n",
       "24                     cancer  \n",
       "25              breast cancer  \n",
       "26                        NaN  \n",
       "27                     asthma  \n",
       "28           oxidative stress  \n",
       "29  phosphotransferase system  \n",
       "30                        NaN  \n",
       "31                        NaN  \n",
       "32                   rainfall  \n",
       "33     staphylococcus hominis  \n",
       "34            pichia pastoris  \n",
       "35            streptomyces sp  \n",
       "36          vibrio vulnificus  \n",
       "37            streptomyces sp  \n",
       "38              marine sponge  \n",
       "39        helicobacter pylori  \n",
       "40          cynanchum atratum  \n",
       "41                        NaN  \n",
       "42                soybean gen  \n",
       "43                        tea  "
      ]
     },
     "execution_count": 9,
     "metadata": {},
     "output_type": "execute_result"
    }
   ],
   "source": [
    "test_data = pd.read_excel('./graph_data.xlsx')\n",
    "test_data"
   ]
  },
  {
   "cell_type": "code",
   "execution_count": 10,
   "id": "7006560a",
   "metadata": {},
   "outputs": [
    {
     "data": {
      "application/vnd.plotly.v1+json": {
       "config": {
        "plotlyServerURL": "https://plot.ly"
       },
       "data": [
        {
         "hovertemplate": "<b>%{hovertext}</b><br><br>continent=material<br>year=2011<br>property=%{x}<br>frequency=%{y}<br>pop=%{marker.size}<br>text=%{text}<extra></extra>",
         "hovertext": [
          "material"
         ],
         "ids": [
          "material"
         ],
         "legendgroup": "material",
         "marker": {
          "color": "#636efa",
          "size": [
           45
          ],
          "sizemode": "area",
          "sizeref": 0.04628099173553719,
          "symbol": "circle"
         },
         "mode": "markers+text",
         "name": "material",
         "orientation": "v",
         "showlegend": true,
         "text": [
          "hominicin"
         ],
         "type": "scatter",
         "x": [
          13
         ],
         "xaxis": "x",
         "y": [
          9
         ],
         "yaxis": "y"
        },
        {
         "hovertemplate": "<b>%{hovertext}</b><br><br>continent=연구주제(특성)<br>year=2011<br>property=%{x}<br>frequency=%{y}<br>pop=%{marker.size}<br>text=%{text}<extra></extra>",
         "hovertext": [
          "연구주제"
         ],
         "ids": [
          "연구주제"
         ],
         "legendgroup": "연구주제(특성)",
         "marker": {
          "color": "#EF553B",
          "size": [
           0
          ],
          "sizemode": "area",
          "sizeref": 0.04628099173553719,
          "symbol": "circle"
         },
         "mode": "markers+text",
         "name": "연구주제(특성)",
         "orientation": "v",
         "showlegend": true,
         "text": [
          null
         ],
         "type": "scatter",
         "x": [
          10
         ],
         "xaxis": "x",
         "y": [
          0
         ],
         "yaxis": "y"
        },
        {
         "hovertemplate": "<b>%{hovertext}</b><br><br>continent=연구주제(그외-biological process)<br>year=2011<br>property=%{x}<br>frequency=%{y}<br>pop=%{marker.size}<br>text=%{text}<extra></extra>",
         "hovertext": [
          "연구주제"
         ],
         "ids": [
          "연구주제"
         ],
         "legendgroup": "연구주제(그외-biological process)",
         "marker": {
          "color": "#00cc96",
          "size": [
           10
          ],
          "sizemode": "area",
          "sizeref": 0.04628099173553719,
          "symbol": "circle"
         },
         "mode": "markers+text",
         "name": "연구주제(그외-biological process)",
         "orientation": "v",
         "showlegend": true,
         "text": [
          "apoptosis"
         ],
         "type": "scatter",
         "x": [
          6
         ],
         "xaxis": "x",
         "y": [
          2
         ],
         "yaxis": "y"
        },
        {
         "hovertemplate": "<b>%{hovertext}</b><br><br>continent=source<br>year=2011<br>property=%{x}<br>frequency=%{y}<br>pop=%{marker.size}<br>text=%{text}<extra></extra>",
         "hovertext": [
          "source"
         ],
         "ids": [
          "source"
         ],
         "legendgroup": "source",
         "marker": {
          "color": "#FFA15A",
          "size": [
           5
          ],
          "sizemode": "area",
          "sizeref": 0.04628099173553719,
          "symbol": "circle"
         },
         "mode": "markers+text",
         "name": "source",
         "orientation": "v",
         "showlegend": true,
         "text": [
          "staphylococcus hominis"
         ],
         "type": "scatter",
         "x": [
          2
         ],
         "xaxis": "x",
         "y": [
          1
         ],
         "yaxis": "y"
        }
       ],
       "frames": [
        {
         "data": [
          {
           "hovertemplate": "<b>%{hovertext}</b><br><br>continent=material<br>year=2011<br>property=%{x}<br>frequency=%{y}<br>pop=%{marker.size}<br>text=%{text}<extra></extra>",
           "hovertext": [
            "material"
           ],
           "ids": [
            "material"
           ],
           "legendgroup": "material",
           "marker": {
            "color": "#636efa",
            "size": [
             45
            ],
            "sizemode": "area",
            "sizeref": 0.04628099173553719,
            "symbol": "circle"
           },
           "mode": "markers+text",
           "name": "material",
           "orientation": "v",
           "showlegend": true,
           "text": [
            "hominicin"
           ],
           "type": "scatter",
           "x": [
            13
           ],
           "xaxis": "x",
           "y": [
            9
           ],
           "yaxis": "y"
          },
          {
           "hovertemplate": "<b>%{hovertext}</b><br><br>continent=연구주제(특성)<br>year=2011<br>property=%{x}<br>frequency=%{y}<br>pop=%{marker.size}<br>text=%{text}<extra></extra>",
           "hovertext": [
            "연구주제"
           ],
           "ids": [
            "연구주제"
           ],
           "legendgroup": "연구주제(특성)",
           "marker": {
            "color": "#EF553B",
            "size": [
             0
            ],
            "sizemode": "area",
            "sizeref": 0.04628099173553719,
            "symbol": "circle"
           },
           "mode": "markers+text",
           "name": "연구주제(특성)",
           "orientation": "v",
           "showlegend": true,
           "text": [
            null
           ],
           "type": "scatter",
           "x": [
            10
           ],
           "xaxis": "x",
           "y": [
            0
           ],
           "yaxis": "y"
          },
          {
           "hovertemplate": "<b>%{hovertext}</b><br><br>continent=연구주제(그외-biological process)<br>year=2011<br>property=%{x}<br>frequency=%{y}<br>pop=%{marker.size}<br>text=%{text}<extra></extra>",
           "hovertext": [
            "연구주제"
           ],
           "ids": [
            "연구주제"
           ],
           "legendgroup": "연구주제(그외-biological process)",
           "marker": {
            "color": "#00cc96",
            "size": [
             10
            ],
            "sizemode": "area",
            "sizeref": 0.04628099173553719,
            "symbol": "circle"
           },
           "mode": "markers+text",
           "name": "연구주제(그외-biological process)",
           "orientation": "v",
           "showlegend": true,
           "text": [
            "apoptosis"
           ],
           "type": "scatter",
           "x": [
            6
           ],
           "xaxis": "x",
           "y": [
            2
           ],
           "yaxis": "y"
          },
          {
           "hovertemplate": "<b>%{hovertext}</b><br><br>continent=source<br>year=2011<br>property=%{x}<br>frequency=%{y}<br>pop=%{marker.size}<br>text=%{text}<extra></extra>",
           "hovertext": [
            "source"
           ],
           "ids": [
            "source"
           ],
           "legendgroup": "source",
           "marker": {
            "color": "#FFA15A",
            "size": [
             5
            ],
            "sizemode": "area",
            "sizeref": 0.04628099173553719,
            "symbol": "circle"
           },
           "mode": "markers+text",
           "name": "source",
           "orientation": "v",
           "showlegend": true,
           "text": [
            "staphylococcus hominis"
           ],
           "type": "scatter",
           "x": [
            2
           ],
           "xaxis": "x",
           "y": [
            1
           ],
           "yaxis": "y"
          }
         ],
         "name": "2011"
        },
        {
         "data": [
          {
           "hovertemplate": "<b>%{hovertext}</b><br><br>continent=material<br>year=2012<br>property=%{x}<br>frequency=%{y}<br>pop=%{marker.size}<br>text=%{text}<extra></extra>",
           "hovertext": [
            "material"
           ],
           "ids": [
            "material"
           ],
           "legendgroup": "material",
           "marker": {
            "color": "#636efa",
            "size": [
             120
            ],
            "sizemode": "area",
            "sizeref": 0.04628099173553719,
            "symbol": "circle"
           },
           "mode": "markers+text",
           "name": "material",
           "orientation": "v",
           "showlegend": true,
           "text": [
            "hsp33"
           ],
           "type": "scatter",
           "x": [
            13
           ],
           "xaxis": "x",
           "y": [
            24
           ],
           "yaxis": "y"
          },
          {
           "hovertemplate": "<b>%{hovertext}</b><br><br>continent=연구주제(특성)<br>year=2012<br>property=%{x}<br>frequency=%{y}<br>pop=%{marker.size}<br>text=%{text}<extra></extra>",
           "hovertext": [
            "연구주제"
           ],
           "ids": [
            "연구주제"
           ],
           "legendgroup": "연구주제(특성)",
           "marker": {
            "color": "#EF553B",
            "size": [
             25
            ],
            "sizemode": "area",
            "sizeref": 0.04628099173553719,
            "symbol": "circle"
           },
           "mode": "markers+text",
           "name": "연구주제(특성)",
           "orientation": "v",
           "showlegend": true,
           "text": [
            "conformational change"
           ],
           "type": "scatter",
           "x": [
            10
           ],
           "xaxis": "x",
           "y": [
            5
           ],
           "yaxis": "y"
          },
          {
           "hovertemplate": "<b>%{hovertext}</b><br><br>continent=연구주제(실험기술/방법)<br>year=2012<br>property=%{x}<br>frequency=%{y}<br>pop=%{marker.size}<br>text=%{text}<extra></extra>",
           "hovertext": [
            "연구주제"
           ],
           "ids": [
            "연구주제"
           ],
           "legendgroup": "연구주제(실험기술/방법)",
           "marker": {
            "color": "#ab63fa",
            "size": [
             15
            ],
            "sizemode": "area",
            "sizeref": 0.04628099173553719,
            "symbol": "circle"
           },
           "mode": "markers+text",
           "name": "연구주제(실험기술/방법)",
           "orientation": "v",
           "showlegend": true,
           "text": [
            "checkpoint signal"
           ],
           "type": "scatter",
           "x": [
            6
           ],
           "xaxis": "x",
           "y": [
            3
           ],
           "yaxis": "y"
          },
          {
           "hovertemplate": "<b>%{hovertext}</b><br><br>continent=source<br>year=2012<br>property=%{x}<br>frequency=%{y}<br>pop=%{marker.size}<br>text=%{text}<extra></extra>",
           "hovertext": [
            "source"
           ],
           "ids": [
            "source"
           ],
           "legendgroup": "source",
           "marker": {
            "color": "#FFA15A",
            "size": [
             10
            ],
            "sizemode": "area",
            "sizeref": 0.04628099173553719,
            "symbol": "circle"
           },
           "mode": "markers+text",
           "name": "source",
           "orientation": "v",
           "showlegend": true,
           "text": [
            "pichia pastoris"
           ],
           "type": "scatter",
           "x": [
            2
           ],
           "xaxis": "x",
           "y": [
            2
           ],
           "yaxis": "y"
          }
         ],
         "name": "2012"
        },
        {
         "data": [
          {
           "hovertemplate": "<b>%{hovertext}</b><br><br>continent=material<br>year=2013<br>property=%{x}<br>frequency=%{y}<br>pop=%{marker.size}<br>text=%{text}<extra></extra>",
           "hovertext": [
            "material"
           ],
           "ids": [
            "material"
           ],
           "legendgroup": "material",
           "marker": {
            "color": "#636efa",
            "size": [
             80
            ],
            "sizemode": "area",
            "sizeref": 0.04628099173553719,
            "symbol": "circle"
           },
           "mode": "markers+text",
           "name": "material",
           "orientation": "v",
           "showlegend": true,
           "text": [
            "isocitrate lyase"
           ],
           "type": "scatter",
           "x": [
            13
           ],
           "xaxis": "x",
           "y": [
            18
           ],
           "yaxis": "y"
          },
          {
           "hovertemplate": "<b>%{hovertext}</b><br><br>continent=연구주제(특성)<br>year=2013<br>property=%{x}<br>frequency=%{y}<br>pop=%{marker.size}<br>text=%{text}<extra></extra>",
           "hovertext": [
            "연구주제"
           ],
           "ids": [
            "연구주제"
           ],
           "legendgroup": "연구주제(특성)",
           "marker": {
            "color": "#EF553B",
            "size": [
             40
            ],
            "sizemode": "area",
            "sizeref": 0.04628099173553719,
            "symbol": "circle"
           },
           "mode": "markers+text",
           "name": "연구주제(특성)",
           "orientation": "v",
           "showlegend": true,
           "text": [
            "cytotoxicity"
           ],
           "type": "scatter",
           "x": [
            10
           ],
           "xaxis": "x",
           "y": [
            8
           ],
           "yaxis": "y"
          },
          {
           "hovertemplate": "<b>%{hovertext}</b><br><br>continent=연구주제(그외-biological process)<br>year=2013<br>property=%{x}<br>frequency=%{y}<br>pop=%{marker.size}<br>text=%{text}<extra></extra>",
           "hovertext": [
            "연구주제"
           ],
           "ids": [
            "연구주제"
           ],
           "legendgroup": "연구주제(그외-biological process)",
           "marker": {
            "color": "#00cc96",
            "size": [
             20
            ],
            "sizemode": "area",
            "sizeref": 0.04628099173553719,
            "symbol": "circle"
           },
           "mode": "markers+text",
           "name": "연구주제(그외-biological process)",
           "orientation": "v",
           "showlegend": true,
           "text": [
            "cancer"
           ],
           "type": "scatter",
           "x": [
            6
           ],
           "xaxis": "x",
           "y": [
            4
           ],
           "yaxis": "y"
          },
          {
           "hovertemplate": "<b>%{hovertext}</b><br><br>continent=source<br>year=2013<br>property=%{x}<br>frequency=%{y}<br>pop=%{marker.size}<br>text=%{text}<extra></extra>",
           "hovertext": [
            "source"
           ],
           "ids": [
            "source"
           ],
           "legendgroup": "source",
           "marker": {
            "color": "#FFA15A",
            "size": [
             20
            ],
            "sizemode": "area",
            "sizeref": 0.04628099173553719,
            "symbol": "circle"
           },
           "mode": "markers+text",
           "name": "source",
           "orientation": "v",
           "showlegend": true,
           "text": [
            "streptomyces sp"
           ],
           "type": "scatter",
           "x": [
            2
           ],
           "xaxis": "x",
           "y": [
            4
           ],
           "yaxis": "y"
          }
         ],
         "name": "2013"
        },
        {
         "data": [
          {
           "hovertemplate": "<b>%{hovertext}</b><br><br>continent=material<br>year=2014<br>property=%{x}<br>frequency=%{y}<br>pop=%{marker.size}<br>text=%{text}<extra></extra>",
           "hovertext": [
            "material"
           ],
           "ids": [
            "material"
           ],
           "legendgroup": "material",
           "marker": {
            "color": "#636efa",
            "size": [
             115
            ],
            "sizemode": "area",
            "sizeref": 0.04628099173553719,
            "symbol": "circle"
           },
           "mode": "markers+text",
           "name": "material",
           "orientation": "v",
           "showlegend": true,
           "text": [
            "metallop"
           ],
           "type": "scatter",
           "x": [
            13
           ],
           "xaxis": "x",
           "y": [
            23
           ],
           "yaxis": "y"
          },
          {
           "hovertemplate": "<b>%{hovertext}</b><br><br>continent=연구주제(특성)<br>year=2014<br>property=%{x}<br>frequency=%{y}<br>pop=%{marker.size}<br>text=%{text}<extra></extra>",
           "hovertext": [
            "연구주제"
           ],
           "ids": [
            "연구주제"
           ],
           "legendgroup": "연구주제(특성)",
           "marker": {
            "color": "#EF553B",
            "size": [
             10
            ],
            "sizemode": "area",
            "sizeref": 0.04628099173553719,
            "symbol": "circle"
           },
           "mode": "markers+text",
           "name": "연구주제(특성)",
           "orientation": "v",
           "showlegend": true,
           "text": [
            "sensory domain"
           ],
           "type": "scatter",
           "x": [
            10
           ],
           "xaxis": "x",
           "y": [
            2
           ],
           "yaxis": "y"
          },
          {
           "hovertemplate": "<b>%{hovertext}</b><br><br>continent=연구주제(그외-biological process)<br>year=2014<br>property=%{x}<br>frequency=%{y}<br>pop=%{marker.size}<br>text=%{text}<extra></extra>",
           "hovertext": [
            "연구주제"
           ],
           "ids": [
            "연구주제"
           ],
           "legendgroup": "연구주제(그외-biological process)",
           "marker": {
            "color": "#00cc96",
            "size": [
             5
            ],
            "sizemode": "area",
            "sizeref": 0.04628099173553719,
            "symbol": "circle"
           },
           "mode": "markers+text",
           "name": "연구주제(그외-biological process)",
           "orientation": "v",
           "showlegend": true,
           "text": [
            "breast cancer"
           ],
           "type": "scatter",
           "x": [
            6
           ],
           "xaxis": "x",
           "y": [
            1
           ],
           "yaxis": "y"
          },
          {
           "hovertemplate": "<b>%{hovertext}</b><br><br>continent=source<br>year=2014<br>property=%{x}<br>frequency=%{y}<br>pop=%{marker.size}<br>text=%{text}<extra></extra>",
           "hovertext": [
            "source"
           ],
           "ids": [
            "source"
           ],
           "legendgroup": "source",
           "marker": {
            "color": "#FFA15A",
            "size": [
             20
            ],
            "sizemode": "area",
            "sizeref": 0.04628099173553719,
            "symbol": "circle"
           },
           "mode": "markers+text",
           "name": "source",
           "orientation": "v",
           "showlegend": true,
           "text": [
            "vibrio vulnificus"
           ],
           "type": "scatter",
           "x": [
            2
           ],
           "xaxis": "x",
           "y": [
            4
           ],
           "yaxis": "y"
          }
         ],
         "name": "2014"
        },
        {
         "data": [
          {
           "hovertemplate": "<b>%{hovertext}</b><br><br>continent=material<br>year=2015<br>property=%{x}<br>frequency=%{y}<br>pop=%{marker.size}<br>text=%{text}<extra></extra>",
           "hovertext": [
            "material"
           ],
           "ids": [
            "material"
           ],
           "legendgroup": "material",
           "marker": {
            "color": "#636efa",
            "size": [
             90
            ],
            "sizemode": "area",
            "sizeref": 0.04628099173553719,
            "symbol": "circle"
           },
           "mode": "markers+text",
           "name": "material",
           "orientation": "v",
           "showlegend": true,
           "text": [
            "calmodulin"
           ],
           "type": "scatter",
           "x": [
            13
           ],
           "xaxis": "x",
           "y": [
            16
           ],
           "yaxis": "y"
          },
          {
           "hovertemplate": "<b>%{hovertext}</b><br><br>continent=연구주제(특성)<br>year=2015<br>property=%{x}<br>frequency=%{y}<br>pop=%{marker.size}<br>text=%{text}<extra></extra>",
           "hovertext": [
            "연구주제"
           ],
           "ids": [
            "연구주제"
           ],
           "legendgroup": "연구주제(특성)",
           "marker": {
            "color": "#EF553B",
            "size": [
             15
            ],
            "sizemode": "area",
            "sizeref": 0.04628099173553719,
            "symbol": "circle"
           },
           "mode": "markers+text",
           "name": "연구주제(특성)",
           "orientation": "v",
           "showlegend": true,
           "text": [
            "hox-dna binding"
           ],
           "type": "scatter",
           "x": [
            10
           ],
           "xaxis": "x",
           "y": [
            3
           ],
           "yaxis": "y"
          },
          {
           "hovertemplate": "<b>%{hovertext}</b><br><br>continent=연구주제(그외-biological process)<br>year=2015<br>property=%{x}<br>frequency=%{y}<br>pop=%{marker.size}<br>text=%{text}<extra></extra>",
           "hovertext": [
            "연구주제"
           ],
           "ids": [
            "연구주제"
           ],
           "legendgroup": "연구주제(그외-biological process)",
           "marker": {
            "color": "#00cc96",
            "size": [
             0
            ],
            "sizemode": "area",
            "sizeref": 0.04628099173553719,
            "symbol": "circle"
           },
           "mode": "markers+text",
           "name": "연구주제(그외-biological process)",
           "orientation": "v",
           "showlegend": true,
           "text": [
            null
           ],
           "type": "scatter",
           "x": [
            6
           ],
           "xaxis": "x",
           "y": [
            0
           ],
           "yaxis": "y"
          },
          {
           "hovertemplate": "<b>%{hovertext}</b><br><br>continent=source<br>year=2015<br>property=%{x}<br>frequency=%{y}<br>pop=%{marker.size}<br>text=%{text}<extra></extra>",
           "hovertext": [
            "source"
           ],
           "ids": [
            "source"
           ],
           "legendgroup": "source",
           "marker": {
            "color": "#FFA15A",
            "size": [
             20
            ],
            "sizemode": "area",
            "sizeref": 0.04628099173553719,
            "symbol": "circle"
           },
           "mode": "markers+text",
           "name": "source",
           "orientation": "v",
           "showlegend": true,
           "text": [
            "streptomyces sp"
           ],
           "type": "scatter",
           "x": [
            2
           ],
           "xaxis": "x",
           "y": [
            4
           ],
           "yaxis": "y"
          }
         ],
         "name": "2015"
        },
        {
         "data": [
          {
           "hovertemplate": "<b>%{hovertext}</b><br><br>continent=material<br>year=2016<br>property=%{x}<br>frequency=%{y}<br>pop=%{marker.size}<br>text=%{text}<extra></extra>",
           "hovertext": [
            "material"
           ],
           "ids": [
            "material"
           ],
           "legendgroup": "material",
           "marker": {
            "color": "#636efa",
            "size": [
             90
            ],
            "sizemode": "area",
            "sizeref": 0.04628099173553719,
            "symbol": "circle"
           },
           "mode": "markers+text",
           "name": "material",
           "orientation": "v",
           "showlegend": true,
           "text": [
            "asteropsin f"
           ],
           "type": "scatter",
           "x": [
            13
           ],
           "xaxis": "x",
           "y": [
            16
           ],
           "yaxis": "y"
          },
          {
           "hovertemplate": "<b>%{hovertext}</b><br><br>continent=연구주제(특성)<br>year=2016<br>property=%{x}<br>frequency=%{y}<br>pop=%{marker.size}<br>text=%{text}<extra></extra>",
           "hovertext": [
            "연구주제"
           ],
           "ids": [
            "연구주제"
           ],
           "legendgroup": "연구주제(특성)",
           "marker": {
            "color": "#EF553B",
            "size": [
             30
            ],
            "sizemode": "area",
            "sizeref": 0.04628099173553719,
            "symbol": "circle"
           },
           "mode": "markers+text",
           "name": "연구주제(특성)",
           "orientation": "v",
           "showlegend": true,
           "text": [
            "assignment principle"
           ],
           "type": "scatter",
           "x": [
            10
           ],
           "xaxis": "x",
           "y": [
            6
           ],
           "yaxis": "y"
          },
          {
           "hovertemplate": "<b>%{hovertext}</b><br><br>continent=연구주제(그외-biological process)<br>year=2016<br>property=%{x}<br>frequency=%{y}<br>pop=%{marker.size}<br>text=%{text}<extra></extra>",
           "hovertext": [
            "연구주제"
           ],
           "ids": [
            "연구주제"
           ],
           "legendgroup": "연구주제(그외-biological process)",
           "marker": {
            "color": "#00cc96",
            "size": [
             15
            ],
            "sizemode": "area",
            "sizeref": 0.04628099173553719,
            "symbol": "circle"
           },
           "mode": "markers+text",
           "name": "연구주제(그외-biological process)",
           "orientation": "v",
           "showlegend": true,
           "text": [
            "asthma"
           ],
           "type": "scatter",
           "x": [
            6
           ],
           "xaxis": "x",
           "y": [
            3
           ],
           "yaxis": "y"
          },
          {
           "hovertemplate": "<b>%{hovertext}</b><br><br>continent=source<br>year=2016<br>property=%{x}<br>frequency=%{y}<br>pop=%{marker.size}<br>text=%{text}<extra></extra>",
           "hovertext": [
            "source"
           ],
           "ids": [
            "source"
           ],
           "legendgroup": "source",
           "marker": {
            "color": "#FFA15A",
            "size": [
             35
            ],
            "sizemode": "area",
            "sizeref": 0.04628099173553719,
            "symbol": "circle"
           },
           "mode": "markers+text",
           "name": "source",
           "orientation": "v",
           "showlegend": true,
           "text": [
            "marine sponge"
           ],
           "type": "scatter",
           "x": [
            2
           ],
           "xaxis": "x",
           "y": [
            7
           ],
           "yaxis": "y"
          }
         ],
         "name": "2016"
        },
        {
         "data": [
          {
           "hovertemplate": "<b>%{hovertext}</b><br><br>continent=material<br>year=2017<br>property=%{x}<br>frequency=%{y}<br>pop=%{marker.size}<br>text=%{text}<extra></extra>",
           "hovertext": [
            "material"
           ],
           "ids": [
            "material"
           ],
           "legendgroup": "material",
           "marker": {
            "color": "#636efa",
            "size": [
             140
            ],
            "sizemode": "area",
            "sizeref": 0.04628099173553719,
            "symbol": "circle"
           },
           "mode": "markers+text",
           "name": "material",
           "orientation": "v",
           "showlegend": true,
           "text": [
            "angiogenin"
           ],
           "type": "scatter",
           "x": [
            13
           ],
           "xaxis": "x",
           "y": [
            28
           ],
           "yaxis": "y"
          },
          {
           "hovertemplate": "<b>%{hovertext}</b><br><br>continent=연구주제(특성)<br>year=2017<br>property=%{x}<br>frequency=%{y}<br>pop=%{marker.size}<br>text=%{text}<extra></extra>",
           "hovertext": [
            "연구주제"
           ],
           "ids": [
            "연구주제"
           ],
           "legendgroup": "연구주제(특성)",
           "marker": {
            "color": "#EF553B",
            "size": [
             30
            ],
            "sizemode": "area",
            "sizeref": 0.04628099173553719,
            "symbol": "circle"
           },
           "mode": "markers+text",
           "name": "연구주제(특성)",
           "orientation": "v",
           "showlegend": true,
           "text": [
            "crystal structure"
           ],
           "type": "scatter",
           "x": [
            10
           ],
           "xaxis": "x",
           "y": [
            6
           ],
           "yaxis": "y"
          },
          {
           "hovertemplate": "<b>%{hovertext}</b><br><br>continent=연구주제(그외-biological process)<br>year=2017<br>property=%{x}<br>frequency=%{y}<br>pop=%{marker.size}<br>text=%{text}<extra></extra>",
           "hovertext": [
            "연구주제"
           ],
           "ids": [
            "연구주제"
           ],
           "legendgroup": "연구주제(그외-biological process)",
           "marker": {
            "color": "#00cc96",
            "size": [
             10
            ],
            "sizemode": "area",
            "sizeref": 0.04628099173553719,
            "symbol": "circle"
           },
           "mode": "markers+text",
           "name": "연구주제(그외-biological process)",
           "orientation": "v",
           "showlegend": true,
           "text": [
            "oxidative stress"
           ],
           "type": "scatter",
           "x": [
            6
           ],
           "xaxis": "x",
           "y": [
            2
           ],
           "yaxis": "y"
          },
          {
           "hovertemplate": "<b>%{hovertext}</b><br><br>continent=source<br>year=2017<br>property=%{x}<br>frequency=%{y}<br>pop=%{marker.size}<br>text=%{text}<extra></extra>",
           "hovertext": [
            "source"
           ],
           "ids": [
            "source"
           ],
           "legendgroup": "source",
           "marker": {
            "color": "#FFA15A",
            "size": [
             20
            ],
            "sizemode": "area",
            "sizeref": 0.04628099173553719,
            "symbol": "circle"
           },
           "mode": "markers+text",
           "name": "source",
           "orientation": "v",
           "showlegend": true,
           "text": [
            "helicobacter pylori"
           ],
           "type": "scatter",
           "x": [
            2
           ],
           "xaxis": "x",
           "y": [
            4
           ],
           "yaxis": "y"
          }
         ],
         "name": "2017"
        },
        {
         "data": [
          {
           "hovertemplate": "<b>%{hovertext}</b><br><br>continent=material<br>year=2018<br>property=%{x}<br>frequency=%{y}<br>pop=%{marker.size}<br>text=%{text}<extra></extra>",
           "hovertext": [
            "material"
           ],
           "ids": [
            "material"
           ],
           "legendgroup": "material",
           "marker": {
            "color": "#636efa",
            "size": [
             110
            ],
            "sizemode": "area",
            "sizeref": 0.04628099173553719,
            "symbol": "circle"
           },
           "mode": "markers+text",
           "name": "material",
           "orientation": "v",
           "showlegend": true,
           "text": [
            "nuclease"
           ],
           "type": "scatter",
           "x": [
            13
           ],
           "xaxis": "x",
           "y": [
            22
           ],
           "yaxis": "y"
          },
          {
           "hovertemplate": "<b>%{hovertext}</b><br><br>continent=연구주제(특성)<br>year=2018<br>property=%{x}<br>frequency=%{y}<br>pop=%{marker.size}<br>text=%{text}<extra></extra>",
           "hovertext": [
            "연구주제"
           ],
           "ids": [
            "연구주제"
           ],
           "legendgroup": "연구주제(특성)",
           "marker": {
            "color": "#EF553B",
            "size": [
             15
            ],
            "sizemode": "area",
            "sizeref": 0.04628099173553719,
            "symbol": "circle"
           },
           "mode": "markers+text",
           "name": "연구주제(특성)",
           "orientation": "v",
           "showlegend": true,
           "text": [
            "dimerization"
           ],
           "type": "scatter",
           "x": [
            10
           ],
           "xaxis": "x",
           "y": [
            3
           ],
           "yaxis": "y"
          },
          {
           "hovertemplate": "<b>%{hovertext}</b><br><br>continent=연구주제(그외-biological process)<br>year=2018<br>property=%{x}<br>frequency=%{y}<br>pop=%{marker.size}<br>text=%{text}<extra></extra>",
           "hovertext": [
            "연구주제"
           ],
           "ids": [
            "연구주제"
           ],
           "legendgroup": "연구주제(그외-biological process)",
           "marker": {
            "color": "#00cc96",
            "size": [
             10
            ],
            "sizemode": "area",
            "sizeref": 0.04628099173553719,
            "symbol": "circle"
           },
           "mode": "markers+text",
           "name": "연구주제(그외-biological process)",
           "orientation": "v",
           "showlegend": true,
           "text": [
            "phosphotransferase system"
           ],
           "type": "scatter",
           "x": [
            6
           ],
           "xaxis": "x",
           "y": [
            2
           ],
           "yaxis": "y"
          },
          {
           "hovertemplate": "<b>%{hovertext}</b><br><br>continent=source<br>year=2018<br>property=%{x}<br>frequency=%{y}<br>pop=%{marker.size}<br>text=%{text}<extra></extra>",
           "hovertext": [
            "source"
           ],
           "ids": [
            "source"
           ],
           "legendgroup": "source",
           "marker": {
            "color": "#FFA15A",
            "size": [
             45
            ],
            "sizemode": "area",
            "sizeref": 0.04628099173553719,
            "symbol": "circle"
           },
           "mode": "markers+text",
           "name": "source",
           "orientation": "v",
           "showlegend": true,
           "text": [
            "cynanchum atratum"
           ],
           "type": "scatter",
           "x": [
            2
           ],
           "xaxis": "x",
           "y": [
            9
           ],
           "yaxis": "y"
          }
         ],
         "name": "2018"
        },
        {
         "data": [
          {
           "hovertemplate": "<b>%{hovertext}</b><br><br>continent=material<br>year=2019<br>property=%{x}<br>frequency=%{y}<br>pop=%{marker.size}<br>text=%{text}<extra></extra>",
           "hovertext": [
            "material"
           ],
           "ids": [
            "material"
           ],
           "legendgroup": "material",
           "marker": {
            "color": "#636efa",
            "size": [
             15
            ],
            "sizemode": "area",
            "sizeref": 0.04628099173553719,
            "symbol": "circle"
           },
           "mode": "markers+text",
           "name": "material",
           "orientation": "v",
           "showlegend": true,
           "text": [
            "mul1"
           ],
           "type": "scatter",
           "x": [
            13
           ],
           "xaxis": "x",
           "y": [
            3
           ],
           "yaxis": "y"
          },
          {
           "hovertemplate": "<b>%{hovertext}</b><br><br>continent=연구주제(특성)<br>year=2019<br>property=%{x}<br>frequency=%{y}<br>pop=%{marker.size}<br>text=%{text}<extra></extra>",
           "hovertext": [
            "연구주제"
           ],
           "ids": [
            "연구주제"
           ],
           "legendgroup": "연구주제(특성)",
           "marker": {
            "color": "#EF553B",
            "size": [
             5
            ],
            "sizemode": "area",
            "sizeref": 0.04628099173553719,
            "symbol": "circle"
           },
           "mode": "markers+text",
           "name": "연구주제(특성)",
           "orientation": "v",
           "showlegend": true,
           "text": [
            "solution structure"
           ],
           "type": "scatter",
           "x": [
            10
           ],
           "xaxis": "x",
           "y": [
            1
           ],
           "yaxis": "y"
          },
          {
           "hovertemplate": "<b>%{hovertext}</b><br><br>continent=연구주제(그외-biological process)<br>year=2019<br>property=%{x}<br>frequency=%{y}<br>pop=%{marker.size}<br>text=%{text}<extra></extra>",
           "hovertext": [
            "연구주제"
           ],
           "ids": [
            "연구주제"
           ],
           "legendgroup": "연구주제(그외-biological process)",
           "marker": {
            "color": "#00cc96",
            "size": [
             0
            ],
            "sizemode": "area",
            "sizeref": 0.04628099173553719,
            "symbol": "circle"
           },
           "mode": "markers+text",
           "name": "연구주제(그외-biological process)",
           "orientation": "v",
           "showlegend": true,
           "text": [
            null
           ],
           "type": "scatter",
           "x": [
            6
           ],
           "xaxis": "x",
           "y": [
            0
           ],
           "yaxis": "y"
          },
          {
           "hovertemplate": "<b>%{hovertext}</b><br><br>continent=source<br>year=2019<br>property=%{x}<br>frequency=%{y}<br>pop=%{marker.size}<br>text=%{text}<extra></extra>",
           "hovertext": [
            "source"
           ],
           "ids": [
            "source"
           ],
           "legendgroup": "source",
           "marker": {
            "color": "#FFA15A",
            "size": [
             0
            ],
            "sizemode": "area",
            "sizeref": 0.04628099173553719,
            "symbol": "circle"
           },
           "mode": "markers+text",
           "name": "source",
           "orientation": "v",
           "showlegend": true,
           "text": [
            null
           ],
           "type": "scatter",
           "x": [
            2
           ],
           "xaxis": "x",
           "y": [
            0
           ],
           "yaxis": "y"
          }
         ],
         "name": "2019"
        },
        {
         "data": [
          {
           "hovertemplate": "<b>%{hovertext}</b><br><br>continent=material<br>year=2020<br>property=%{x}<br>frequency=%{y}<br>pop=%{marker.size}<br>text=%{text}<extra></extra>",
           "hovertext": [
            "material"
           ],
           "ids": [
            "material"
           ],
           "legendgroup": "material",
           "marker": {
            "color": "#636efa",
            "size": [
             85
            ],
            "sizemode": "area",
            "sizeref": 0.04628099173553719,
            "symbol": "circle"
           },
           "mode": "markers+text",
           "name": "material",
           "orientation": "v",
           "showlegend": true,
           "text": [
            "dna"
           ],
           "type": "scatter",
           "x": [
            13
           ],
           "xaxis": "x",
           "y": [
            17
           ],
           "yaxis": "y"
          },
          {
           "hovertemplate": "<b>%{hovertext}</b><br><br>continent=연구주제(특성)<br>year=2020<br>property=%{x}<br>frequency=%{y}<br>pop=%{marker.size}<br>text=%{text}<extra></extra>",
           "hovertext": [
            "연구주제"
           ],
           "ids": [
            "연구주제"
           ],
           "legendgroup": "연구주제(특성)",
           "marker": {
            "color": "#EF553B",
            "size": [
             25
            ],
            "sizemode": "area",
            "sizeref": 0.04628099173553719,
            "symbol": "circle"
           },
           "mode": "markers+text",
           "name": "연구주제(특성)",
           "orientation": "v",
           "showlegend": true,
           "text": [
            "metabolomics"
           ],
           "type": "scatter",
           "x": [
            10
           ],
           "xaxis": "x",
           "y": [
            5
           ],
           "yaxis": "y"
          },
          {
           "hovertemplate": "<b>%{hovertext}</b><br><br>continent=연구주제(그외-biological process)<br>year=2020<br>property=%{x}<br>frequency=%{y}<br>pop=%{marker.size}<br>text=%{text}<extra></extra>",
           "hovertext": [
            "연구주제"
           ],
           "ids": [
            "연구주제"
           ],
           "legendgroup": "연구주제(그외-biological process)",
           "marker": {
            "color": "#00cc96",
            "size": [
             0
            ],
            "sizemode": "area",
            "sizeref": 0.04628099173553719,
            "symbol": "circle"
           },
           "mode": "markers+text",
           "name": "연구주제(그외-biological process)",
           "orientation": "v",
           "showlegend": true,
           "text": [
            null
           ],
           "type": "scatter",
           "x": [
            6
           ],
           "xaxis": "x",
           "y": [
            0
           ],
           "yaxis": "y"
          },
          {
           "hovertemplate": "<b>%{hovertext}</b><br><br>continent=source<br>year=2020<br>property=%{x}<br>frequency=%{y}<br>pop=%{marker.size}<br>text=%{text}<extra></extra>",
           "hovertext": [
            "source"
           ],
           "ids": [
            "source"
           ],
           "legendgroup": "source",
           "marker": {
            "color": "#FFA15A",
            "size": [
             30
            ],
            "sizemode": "area",
            "sizeref": 0.04628099173553719,
            "symbol": "circle"
           },
           "mode": "markers+text",
           "name": "source",
           "orientation": "v",
           "showlegend": true,
           "text": [
            "soybean gen"
           ],
           "type": "scatter",
           "x": [
            2
           ],
           "xaxis": "x",
           "y": [
            6
           ],
           "yaxis": "y"
          }
         ],
         "name": "2020"
        },
        {
         "data": [
          {
           "hovertemplate": "<b>%{hovertext}</b><br><br>continent=material<br>year=2021<br>property=%{x}<br>frequency=%{y}<br>pop=%{marker.size}<br>text=%{text}<extra></extra>",
           "hovertext": [
            "material"
           ],
           "ids": [
            "material"
           ],
           "legendgroup": "material",
           "marker": {
            "color": "#636efa",
            "size": [
             65
            ],
            "sizemode": "area",
            "sizeref": 0.04628099173553719,
            "symbol": "circle"
           },
           "mode": "markers+text",
           "name": "material",
           "orientation": "v",
           "showlegend": true,
           "text": [
            "prednisone"
           ],
           "type": "scatter",
           "x": [
            13
           ],
           "xaxis": "x",
           "y": [
            13
           ],
           "yaxis": "y"
          },
          {
           "hovertemplate": "<b>%{hovertext}</b><br><br>continent=연구주제(특성)<br>year=2021<br>property=%{x}<br>frequency=%{y}<br>pop=%{marker.size}<br>text=%{text}<extra></extra>",
           "hovertext": [
            "연구주제"
           ],
           "ids": [
            "연구주제"
           ],
           "legendgroup": "연구주제(특성)",
           "marker": {
            "color": "#EF553B",
            "size": [
             40
            ],
            "sizemode": "area",
            "sizeref": 0.04628099173553719,
            "symbol": "circle"
           },
           "mode": "markers+text",
           "name": "연구주제(특성)",
           "orientation": "v",
           "showlegend": true,
           "text": [
            "metabolomics"
           ],
           "type": "scatter",
           "x": [
            10
           ],
           "xaxis": "x",
           "y": [
            8
           ],
           "yaxis": "y"
          },
          {
           "hovertemplate": "<b>%{hovertext}</b><br><br>continent=연구주제(그외-biological process)<br>year=2021<br>property=%{x}<br>frequency=%{y}<br>pop=%{marker.size}<br>text=%{text}<extra></extra>",
           "hovertext": [
            "연구주제"
           ],
           "ids": [
            "연구주제"
           ],
           "legendgroup": "연구주제(그외-biological process)",
           "marker": {
            "color": "#00cc96",
            "size": [
             20
            ],
            "sizemode": "area",
            "sizeref": 0.04628099173553719,
            "symbol": "circle"
           },
           "mode": "markers+text",
           "name": "연구주제(그외-biological process)",
           "orientation": "v",
           "showlegend": true,
           "text": [
            "rainfall"
           ],
           "type": "scatter",
           "x": [
            6
           ],
           "xaxis": "x",
           "y": [
            4
           ],
           "yaxis": "y"
          },
          {
           "hovertemplate": "<b>%{hovertext}</b><br><br>continent=source<br>year=2021<br>property=%{x}<br>frequency=%{y}<br>pop=%{marker.size}<br>text=%{text}<extra></extra>",
           "hovertext": [
            "source"
           ],
           "ids": [
            "source"
           ],
           "legendgroup": "source",
           "marker": {
            "color": "#FFA15A",
            "size": [
             30
            ],
            "sizemode": "area",
            "sizeref": 0.04628099173553719,
            "symbol": "circle"
           },
           "mode": "markers+text",
           "name": "source",
           "orientation": "v",
           "showlegend": true,
           "text": [
            "tea"
           ],
           "type": "scatter",
           "x": [
            2
           ],
           "xaxis": "x",
           "y": [
            6
           ],
           "yaxis": "y"
          }
         ],
         "name": "2021"
        }
       ],
       "layout": {
        "legend": {
         "itemsizing": "constant",
         "title": {
          "text": "continent"
         },
         "tracegroupgap": 0
        },
        "margin": {
         "t": 60
        },
        "sliders": [
         {
          "active": 0,
          "currentvalue": {
           "prefix": "year="
          },
          "len": 0.9,
          "pad": {
           "b": 10,
           "t": 60
          },
          "steps": [
           {
            "args": [
             [
              "2011"
             ],
             {
              "frame": {
               "duration": 0,
               "redraw": false
              },
              "fromcurrent": true,
              "mode": "immediate",
              "transition": {
               "duration": 0,
               "easing": "linear"
              }
             }
            ],
            "label": "2011",
            "method": "animate"
           },
           {
            "args": [
             [
              "2012"
             ],
             {
              "frame": {
               "duration": 0,
               "redraw": false
              },
              "fromcurrent": true,
              "mode": "immediate",
              "transition": {
               "duration": 0,
               "easing": "linear"
              }
             }
            ],
            "label": "2012",
            "method": "animate"
           },
           {
            "args": [
             [
              "2013"
             ],
             {
              "frame": {
               "duration": 0,
               "redraw": false
              },
              "fromcurrent": true,
              "mode": "immediate",
              "transition": {
               "duration": 0,
               "easing": "linear"
              }
             }
            ],
            "label": "2013",
            "method": "animate"
           },
           {
            "args": [
             [
              "2014"
             ],
             {
              "frame": {
               "duration": 0,
               "redraw": false
              },
              "fromcurrent": true,
              "mode": "immediate",
              "transition": {
               "duration": 0,
               "easing": "linear"
              }
             }
            ],
            "label": "2014",
            "method": "animate"
           },
           {
            "args": [
             [
              "2015"
             ],
             {
              "frame": {
               "duration": 0,
               "redraw": false
              },
              "fromcurrent": true,
              "mode": "immediate",
              "transition": {
               "duration": 0,
               "easing": "linear"
              }
             }
            ],
            "label": "2015",
            "method": "animate"
           },
           {
            "args": [
             [
              "2016"
             ],
             {
              "frame": {
               "duration": 0,
               "redraw": false
              },
              "fromcurrent": true,
              "mode": "immediate",
              "transition": {
               "duration": 0,
               "easing": "linear"
              }
             }
            ],
            "label": "2016",
            "method": "animate"
           },
           {
            "args": [
             [
              "2017"
             ],
             {
              "frame": {
               "duration": 0,
               "redraw": false
              },
              "fromcurrent": true,
              "mode": "immediate",
              "transition": {
               "duration": 0,
               "easing": "linear"
              }
             }
            ],
            "label": "2017",
            "method": "animate"
           },
           {
            "args": [
             [
              "2018"
             ],
             {
              "frame": {
               "duration": 0,
               "redraw": false
              },
              "fromcurrent": true,
              "mode": "immediate",
              "transition": {
               "duration": 0,
               "easing": "linear"
              }
             }
            ],
            "label": "2018",
            "method": "animate"
           },
           {
            "args": [
             [
              "2019"
             ],
             {
              "frame": {
               "duration": 0,
               "redraw": false
              },
              "fromcurrent": true,
              "mode": "immediate",
              "transition": {
               "duration": 0,
               "easing": "linear"
              }
             }
            ],
            "label": "2019",
            "method": "animate"
           },
           {
            "args": [
             [
              "2020"
             ],
             {
              "frame": {
               "duration": 0,
               "redraw": false
              },
              "fromcurrent": true,
              "mode": "immediate",
              "transition": {
               "duration": 0,
               "easing": "linear"
              }
             }
            ],
            "label": "2020",
            "method": "animate"
           },
           {
            "args": [
             [
              "2021"
             ],
             {
              "frame": {
               "duration": 0,
               "redraw": false
              },
              "fromcurrent": true,
              "mode": "immediate",
              "transition": {
               "duration": 0,
               "easing": "linear"
              }
             }
            ],
            "label": "2021",
            "method": "animate"
           }
          ],
          "x": 0.1,
          "xanchor": "left",
          "y": 0,
          "yanchor": "top"
         }
        ],
        "template": {
         "data": {
          "bar": [
           {
            "error_x": {
             "color": "#2a3f5f"
            },
            "error_y": {
             "color": "#2a3f5f"
            },
            "marker": {
             "line": {
              "color": "#E5ECF6",
              "width": 0.5
             },
             "pattern": {
              "fillmode": "overlay",
              "size": 10,
              "solidity": 0.2
             }
            },
            "type": "bar"
           }
          ],
          "barpolar": [
           {
            "marker": {
             "line": {
              "color": "#E5ECF6",
              "width": 0.5
             },
             "pattern": {
              "fillmode": "overlay",
              "size": 10,
              "solidity": 0.2
             }
            },
            "type": "barpolar"
           }
          ],
          "carpet": [
           {
            "aaxis": {
             "endlinecolor": "#2a3f5f",
             "gridcolor": "white",
             "linecolor": "white",
             "minorgridcolor": "white",
             "startlinecolor": "#2a3f5f"
            },
            "baxis": {
             "endlinecolor": "#2a3f5f",
             "gridcolor": "white",
             "linecolor": "white",
             "minorgridcolor": "white",
             "startlinecolor": "#2a3f5f"
            },
            "type": "carpet"
           }
          ],
          "choropleth": [
           {
            "colorbar": {
             "outlinewidth": 0,
             "ticks": ""
            },
            "type": "choropleth"
           }
          ],
          "contour": [
           {
            "colorbar": {
             "outlinewidth": 0,
             "ticks": ""
            },
            "colorscale": [
             [
              0,
              "#0d0887"
             ],
             [
              0.1111111111111111,
              "#46039f"
             ],
             [
              0.2222222222222222,
              "#7201a8"
             ],
             [
              0.3333333333333333,
              "#9c179e"
             ],
             [
              0.4444444444444444,
              "#bd3786"
             ],
             [
              0.5555555555555556,
              "#d8576b"
             ],
             [
              0.6666666666666666,
              "#ed7953"
             ],
             [
              0.7777777777777778,
              "#fb9f3a"
             ],
             [
              0.8888888888888888,
              "#fdca26"
             ],
             [
              1,
              "#f0f921"
             ]
            ],
            "type": "contour"
           }
          ],
          "contourcarpet": [
           {
            "colorbar": {
             "outlinewidth": 0,
             "ticks": ""
            },
            "type": "contourcarpet"
           }
          ],
          "heatmap": [
           {
            "colorbar": {
             "outlinewidth": 0,
             "ticks": ""
            },
            "colorscale": [
             [
              0,
              "#0d0887"
             ],
             [
              0.1111111111111111,
              "#46039f"
             ],
             [
              0.2222222222222222,
              "#7201a8"
             ],
             [
              0.3333333333333333,
              "#9c179e"
             ],
             [
              0.4444444444444444,
              "#bd3786"
             ],
             [
              0.5555555555555556,
              "#d8576b"
             ],
             [
              0.6666666666666666,
              "#ed7953"
             ],
             [
              0.7777777777777778,
              "#fb9f3a"
             ],
             [
              0.8888888888888888,
              "#fdca26"
             ],
             [
              1,
              "#f0f921"
             ]
            ],
            "type": "heatmap"
           }
          ],
          "heatmapgl": [
           {
            "colorbar": {
             "outlinewidth": 0,
             "ticks": ""
            },
            "colorscale": [
             [
              0,
              "#0d0887"
             ],
             [
              0.1111111111111111,
              "#46039f"
             ],
             [
              0.2222222222222222,
              "#7201a8"
             ],
             [
              0.3333333333333333,
              "#9c179e"
             ],
             [
              0.4444444444444444,
              "#bd3786"
             ],
             [
              0.5555555555555556,
              "#d8576b"
             ],
             [
              0.6666666666666666,
              "#ed7953"
             ],
             [
              0.7777777777777778,
              "#fb9f3a"
             ],
             [
              0.8888888888888888,
              "#fdca26"
             ],
             [
              1,
              "#f0f921"
             ]
            ],
            "type": "heatmapgl"
           }
          ],
          "histogram": [
           {
            "marker": {
             "pattern": {
              "fillmode": "overlay",
              "size": 10,
              "solidity": 0.2
             }
            },
            "type": "histogram"
           }
          ],
          "histogram2d": [
           {
            "colorbar": {
             "outlinewidth": 0,
             "ticks": ""
            },
            "colorscale": [
             [
              0,
              "#0d0887"
             ],
             [
              0.1111111111111111,
              "#46039f"
             ],
             [
              0.2222222222222222,
              "#7201a8"
             ],
             [
              0.3333333333333333,
              "#9c179e"
             ],
             [
              0.4444444444444444,
              "#bd3786"
             ],
             [
              0.5555555555555556,
              "#d8576b"
             ],
             [
              0.6666666666666666,
              "#ed7953"
             ],
             [
              0.7777777777777778,
              "#fb9f3a"
             ],
             [
              0.8888888888888888,
              "#fdca26"
             ],
             [
              1,
              "#f0f921"
             ]
            ],
            "type": "histogram2d"
           }
          ],
          "histogram2dcontour": [
           {
            "colorbar": {
             "outlinewidth": 0,
             "ticks": ""
            },
            "colorscale": [
             [
              0,
              "#0d0887"
             ],
             [
              0.1111111111111111,
              "#46039f"
             ],
             [
              0.2222222222222222,
              "#7201a8"
             ],
             [
              0.3333333333333333,
              "#9c179e"
             ],
             [
              0.4444444444444444,
              "#bd3786"
             ],
             [
              0.5555555555555556,
              "#d8576b"
             ],
             [
              0.6666666666666666,
              "#ed7953"
             ],
             [
              0.7777777777777778,
              "#fb9f3a"
             ],
             [
              0.8888888888888888,
              "#fdca26"
             ],
             [
              1,
              "#f0f921"
             ]
            ],
            "type": "histogram2dcontour"
           }
          ],
          "mesh3d": [
           {
            "colorbar": {
             "outlinewidth": 0,
             "ticks": ""
            },
            "type": "mesh3d"
           }
          ],
          "parcoords": [
           {
            "line": {
             "colorbar": {
              "outlinewidth": 0,
              "ticks": ""
             }
            },
            "type": "parcoords"
           }
          ],
          "pie": [
           {
            "automargin": true,
            "type": "pie"
           }
          ],
          "scatter": [
           {
            "fillpattern": {
             "fillmode": "overlay",
             "size": 10,
             "solidity": 0.2
            },
            "type": "scatter"
           }
          ],
          "scatter3d": [
           {
            "line": {
             "colorbar": {
              "outlinewidth": 0,
              "ticks": ""
             }
            },
            "marker": {
             "colorbar": {
              "outlinewidth": 0,
              "ticks": ""
             }
            },
            "type": "scatter3d"
           }
          ],
          "scattercarpet": [
           {
            "marker": {
             "colorbar": {
              "outlinewidth": 0,
              "ticks": ""
             }
            },
            "type": "scattercarpet"
           }
          ],
          "scattergeo": [
           {
            "marker": {
             "colorbar": {
              "outlinewidth": 0,
              "ticks": ""
             }
            },
            "type": "scattergeo"
           }
          ],
          "scattergl": [
           {
            "marker": {
             "colorbar": {
              "outlinewidth": 0,
              "ticks": ""
             }
            },
            "type": "scattergl"
           }
          ],
          "scattermapbox": [
           {
            "marker": {
             "colorbar": {
              "outlinewidth": 0,
              "ticks": ""
             }
            },
            "type": "scattermapbox"
           }
          ],
          "scatterpolar": [
           {
            "marker": {
             "colorbar": {
              "outlinewidth": 0,
              "ticks": ""
             }
            },
            "type": "scatterpolar"
           }
          ],
          "scatterpolargl": [
           {
            "marker": {
             "colorbar": {
              "outlinewidth": 0,
              "ticks": ""
             }
            },
            "type": "scatterpolargl"
           }
          ],
          "scatterternary": [
           {
            "marker": {
             "colorbar": {
              "outlinewidth": 0,
              "ticks": ""
             }
            },
            "type": "scatterternary"
           }
          ],
          "surface": [
           {
            "colorbar": {
             "outlinewidth": 0,
             "ticks": ""
            },
            "colorscale": [
             [
              0,
              "#0d0887"
             ],
             [
              0.1111111111111111,
              "#46039f"
             ],
             [
              0.2222222222222222,
              "#7201a8"
             ],
             [
              0.3333333333333333,
              "#9c179e"
             ],
             [
              0.4444444444444444,
              "#bd3786"
             ],
             [
              0.5555555555555556,
              "#d8576b"
             ],
             [
              0.6666666666666666,
              "#ed7953"
             ],
             [
              0.7777777777777778,
              "#fb9f3a"
             ],
             [
              0.8888888888888888,
              "#fdca26"
             ],
             [
              1,
              "#f0f921"
             ]
            ],
            "type": "surface"
           }
          ],
          "table": [
           {
            "cells": {
             "fill": {
              "color": "#EBF0F8"
             },
             "line": {
              "color": "white"
             }
            },
            "header": {
             "fill": {
              "color": "#C8D4E3"
             },
             "line": {
              "color": "white"
             }
            },
            "type": "table"
           }
          ]
         },
         "layout": {
          "annotationdefaults": {
           "arrowcolor": "#2a3f5f",
           "arrowhead": 0,
           "arrowwidth": 1
          },
          "autotypenumbers": "strict",
          "coloraxis": {
           "colorbar": {
            "outlinewidth": 0,
            "ticks": ""
           }
          },
          "colorscale": {
           "diverging": [
            [
             0,
             "#8e0152"
            ],
            [
             0.1,
             "#c51b7d"
            ],
            [
             0.2,
             "#de77ae"
            ],
            [
             0.3,
             "#f1b6da"
            ],
            [
             0.4,
             "#fde0ef"
            ],
            [
             0.5,
             "#f7f7f7"
            ],
            [
             0.6,
             "#e6f5d0"
            ],
            [
             0.7,
             "#b8e186"
            ],
            [
             0.8,
             "#7fbc41"
            ],
            [
             0.9,
             "#4d9221"
            ],
            [
             1,
             "#276419"
            ]
           ],
           "sequential": [
            [
             0,
             "#0d0887"
            ],
            [
             0.1111111111111111,
             "#46039f"
            ],
            [
             0.2222222222222222,
             "#7201a8"
            ],
            [
             0.3333333333333333,
             "#9c179e"
            ],
            [
             0.4444444444444444,
             "#bd3786"
            ],
            [
             0.5555555555555556,
             "#d8576b"
            ],
            [
             0.6666666666666666,
             "#ed7953"
            ],
            [
             0.7777777777777778,
             "#fb9f3a"
            ],
            [
             0.8888888888888888,
             "#fdca26"
            ],
            [
             1,
             "#f0f921"
            ]
           ],
           "sequentialminus": [
            [
             0,
             "#0d0887"
            ],
            [
             0.1111111111111111,
             "#46039f"
            ],
            [
             0.2222222222222222,
             "#7201a8"
            ],
            [
             0.3333333333333333,
             "#9c179e"
            ],
            [
             0.4444444444444444,
             "#bd3786"
            ],
            [
             0.5555555555555556,
             "#d8576b"
            ],
            [
             0.6666666666666666,
             "#ed7953"
            ],
            [
             0.7777777777777778,
             "#fb9f3a"
            ],
            [
             0.8888888888888888,
             "#fdca26"
            ],
            [
             1,
             "#f0f921"
            ]
           ]
          },
          "colorway": [
           "#636efa",
           "#EF553B",
           "#00cc96",
           "#ab63fa",
           "#FFA15A",
           "#19d3f3",
           "#FF6692",
           "#B6E880",
           "#FF97FF",
           "#FECB52"
          ],
          "font": {
           "color": "#2a3f5f"
          },
          "geo": {
           "bgcolor": "white",
           "lakecolor": "white",
           "landcolor": "#E5ECF6",
           "showlakes": true,
           "showland": true,
           "subunitcolor": "white"
          },
          "hoverlabel": {
           "align": "left"
          },
          "hovermode": "closest",
          "mapbox": {
           "style": "light"
          },
          "paper_bgcolor": "white",
          "plot_bgcolor": "#E5ECF6",
          "polar": {
           "angularaxis": {
            "gridcolor": "white",
            "linecolor": "white",
            "ticks": ""
           },
           "bgcolor": "#E5ECF6",
           "radialaxis": {
            "gridcolor": "white",
            "linecolor": "white",
            "ticks": ""
           }
          },
          "scene": {
           "xaxis": {
            "backgroundcolor": "#E5ECF6",
            "gridcolor": "white",
            "gridwidth": 2,
            "linecolor": "white",
            "showbackground": true,
            "ticks": "",
            "zerolinecolor": "white"
           },
           "yaxis": {
            "backgroundcolor": "#E5ECF6",
            "gridcolor": "white",
            "gridwidth": 2,
            "linecolor": "white",
            "showbackground": true,
            "ticks": "",
            "zerolinecolor": "white"
           },
           "zaxis": {
            "backgroundcolor": "#E5ECF6",
            "gridcolor": "white",
            "gridwidth": 2,
            "linecolor": "white",
            "showbackground": true,
            "ticks": "",
            "zerolinecolor": "white"
           }
          },
          "shapedefaults": {
           "line": {
            "color": "#2a3f5f"
           }
          },
          "ternary": {
           "aaxis": {
            "gridcolor": "white",
            "linecolor": "white",
            "ticks": ""
           },
           "baxis": {
            "gridcolor": "white",
            "linecolor": "white",
            "ticks": ""
           },
           "bgcolor": "#E5ECF6",
           "caxis": {
            "gridcolor": "white",
            "linecolor": "white",
            "ticks": ""
           }
          },
          "title": {
           "x": 0.05
          },
          "xaxis": {
           "automargin": true,
           "gridcolor": "white",
           "linecolor": "white",
           "ticks": "",
           "title": {
            "standoff": 15
           },
           "zerolinecolor": "white",
           "zerolinewidth": 2
          },
          "yaxis": {
           "automargin": true,
           "gridcolor": "white",
           "linecolor": "white",
           "ticks": "",
           "title": {
            "standoff": 15
           },
           "zerolinecolor": "white",
           "zerolinewidth": 2
          }
         }
        },
        "xaxis": {
         "anchor": "y",
         "domain": [
          0,
          1
         ],
         "range": [
          0,
          1.1760912590556811
         ],
         "title": {
          "text": "property"
         },
         "type": "log"
        },
        "yaxis": {
         "anchor": "x",
         "domain": [
          0,
          1
         ],
         "range": [
          -1,
          50
         ],
         "title": {
          "text": "frequency"
         }
        }
       }
      },
      "text/html": [
       "<div>                            <div id=\"773e1c80-a2b3-4aaf-ab13-5bb28edc6add\" class=\"plotly-graph-div\" style=\"height:525px; width:100%;\"></div>            <script type=\"text/javascript\">                require([\"plotly\"], function(Plotly) {                    window.PLOTLYENV=window.PLOTLYENV || {};                                    if (document.getElementById(\"773e1c80-a2b3-4aaf-ab13-5bb28edc6add\")) {                    Plotly.newPlot(                        \"773e1c80-a2b3-4aaf-ab13-5bb28edc6add\",                        [{\"hovertemplate\":\"<b>%{hovertext}</b><br><br>continent=material<br>year=2011<br>property=%{x}<br>frequency=%{y}<br>pop=%{marker.size}<br>text=%{text}<extra></extra>\",\"hovertext\":[\"material\"],\"ids\":[\"material\"],\"legendgroup\":\"material\",\"marker\":{\"color\":\"#636efa\",\"size\":[45],\"sizemode\":\"area\",\"sizeref\":0.04628099173553719,\"symbol\":\"circle\"},\"mode\":\"markers+text\",\"name\":\"material\",\"orientation\":\"v\",\"showlegend\":true,\"text\":[\"hominicin\"],\"x\":[13],\"xaxis\":\"x\",\"y\":[9],\"yaxis\":\"y\",\"type\":\"scatter\"},{\"hovertemplate\":\"<b>%{hovertext}</b><br><br>continent=\\uc5f0\\uad6c\\uc8fc\\uc81c(\\ud2b9\\uc131)<br>year=2011<br>property=%{x}<br>frequency=%{y}<br>pop=%{marker.size}<br>text=%{text}<extra></extra>\",\"hovertext\":[\"\\uc5f0\\uad6c\\uc8fc\\uc81c\"],\"ids\":[\"\\uc5f0\\uad6c\\uc8fc\\uc81c\"],\"legendgroup\":\"\\uc5f0\\uad6c\\uc8fc\\uc81c(\\ud2b9\\uc131)\",\"marker\":{\"color\":\"#EF553B\",\"size\":[0],\"sizemode\":\"area\",\"sizeref\":0.04628099173553719,\"symbol\":\"circle\"},\"mode\":\"markers+text\",\"name\":\"\\uc5f0\\uad6c\\uc8fc\\uc81c(\\ud2b9\\uc131)\",\"orientation\":\"v\",\"showlegend\":true,\"text\":[null],\"x\":[10],\"xaxis\":\"x\",\"y\":[0],\"yaxis\":\"y\",\"type\":\"scatter\"},{\"hovertemplate\":\"<b>%{hovertext}</b><br><br>continent=\\uc5f0\\uad6c\\uc8fc\\uc81c(\\uadf8\\uc678-biological process)<br>year=2011<br>property=%{x}<br>frequency=%{y}<br>pop=%{marker.size}<br>text=%{text}<extra></extra>\",\"hovertext\":[\"\\uc5f0\\uad6c\\uc8fc\\uc81c\"],\"ids\":[\"\\uc5f0\\uad6c\\uc8fc\\uc81c\"],\"legendgroup\":\"\\uc5f0\\uad6c\\uc8fc\\uc81c(\\uadf8\\uc678-biological process)\",\"marker\":{\"color\":\"#00cc96\",\"size\":[10],\"sizemode\":\"area\",\"sizeref\":0.04628099173553719,\"symbol\":\"circle\"},\"mode\":\"markers+text\",\"name\":\"\\uc5f0\\uad6c\\uc8fc\\uc81c(\\uadf8\\uc678-biological process)\",\"orientation\":\"v\",\"showlegend\":true,\"text\":[\"apoptosis\"],\"x\":[6],\"xaxis\":\"x\",\"y\":[2],\"yaxis\":\"y\",\"type\":\"scatter\"},{\"hovertemplate\":\"<b>%{hovertext}</b><br><br>continent=source<br>year=2011<br>property=%{x}<br>frequency=%{y}<br>pop=%{marker.size}<br>text=%{text}<extra></extra>\",\"hovertext\":[\"source\"],\"ids\":[\"source\"],\"legendgroup\":\"source\",\"marker\":{\"color\":\"#FFA15A\",\"size\":[5],\"sizemode\":\"area\",\"sizeref\":0.04628099173553719,\"symbol\":\"circle\"},\"mode\":\"markers+text\",\"name\":\"source\",\"orientation\":\"v\",\"showlegend\":true,\"text\":[\"staphylococcus hominis\"],\"x\":[2],\"xaxis\":\"x\",\"y\":[1],\"yaxis\":\"y\",\"type\":\"scatter\"}],                        {\"template\":{\"data\":{\"histogram2dcontour\":[{\"type\":\"histogram2dcontour\",\"colorbar\":{\"outlinewidth\":0,\"ticks\":\"\"},\"colorscale\":[[0.0,\"#0d0887\"],[0.1111111111111111,\"#46039f\"],[0.2222222222222222,\"#7201a8\"],[0.3333333333333333,\"#9c179e\"],[0.4444444444444444,\"#bd3786\"],[0.5555555555555556,\"#d8576b\"],[0.6666666666666666,\"#ed7953\"],[0.7777777777777778,\"#fb9f3a\"],[0.8888888888888888,\"#fdca26\"],[1.0,\"#f0f921\"]]}],\"choropleth\":[{\"type\":\"choropleth\",\"colorbar\":{\"outlinewidth\":0,\"ticks\":\"\"}}],\"histogram2d\":[{\"type\":\"histogram2d\",\"colorbar\":{\"outlinewidth\":0,\"ticks\":\"\"},\"colorscale\":[[0.0,\"#0d0887\"],[0.1111111111111111,\"#46039f\"],[0.2222222222222222,\"#7201a8\"],[0.3333333333333333,\"#9c179e\"],[0.4444444444444444,\"#bd3786\"],[0.5555555555555556,\"#d8576b\"],[0.6666666666666666,\"#ed7953\"],[0.7777777777777778,\"#fb9f3a\"],[0.8888888888888888,\"#fdca26\"],[1.0,\"#f0f921\"]]}],\"heatmap\":[{\"type\":\"heatmap\",\"colorbar\":{\"outlinewidth\":0,\"ticks\":\"\"},\"colorscale\":[[0.0,\"#0d0887\"],[0.1111111111111111,\"#46039f\"],[0.2222222222222222,\"#7201a8\"],[0.3333333333333333,\"#9c179e\"],[0.4444444444444444,\"#bd3786\"],[0.5555555555555556,\"#d8576b\"],[0.6666666666666666,\"#ed7953\"],[0.7777777777777778,\"#fb9f3a\"],[0.8888888888888888,\"#fdca26\"],[1.0,\"#f0f921\"]]}],\"heatmapgl\":[{\"type\":\"heatmapgl\",\"colorbar\":{\"outlinewidth\":0,\"ticks\":\"\"},\"colorscale\":[[0.0,\"#0d0887\"],[0.1111111111111111,\"#46039f\"],[0.2222222222222222,\"#7201a8\"],[0.3333333333333333,\"#9c179e\"],[0.4444444444444444,\"#bd3786\"],[0.5555555555555556,\"#d8576b\"],[0.6666666666666666,\"#ed7953\"],[0.7777777777777778,\"#fb9f3a\"],[0.8888888888888888,\"#fdca26\"],[1.0,\"#f0f921\"]]}],\"contourcarpet\":[{\"type\":\"contourcarpet\",\"colorbar\":{\"outlinewidth\":0,\"ticks\":\"\"}}],\"contour\":[{\"type\":\"contour\",\"colorbar\":{\"outlinewidth\":0,\"ticks\":\"\"},\"colorscale\":[[0.0,\"#0d0887\"],[0.1111111111111111,\"#46039f\"],[0.2222222222222222,\"#7201a8\"],[0.3333333333333333,\"#9c179e\"],[0.4444444444444444,\"#bd3786\"],[0.5555555555555556,\"#d8576b\"],[0.6666666666666666,\"#ed7953\"],[0.7777777777777778,\"#fb9f3a\"],[0.8888888888888888,\"#fdca26\"],[1.0,\"#f0f921\"]]}],\"surface\":[{\"type\":\"surface\",\"colorbar\":{\"outlinewidth\":0,\"ticks\":\"\"},\"colorscale\":[[0.0,\"#0d0887\"],[0.1111111111111111,\"#46039f\"],[0.2222222222222222,\"#7201a8\"],[0.3333333333333333,\"#9c179e\"],[0.4444444444444444,\"#bd3786\"],[0.5555555555555556,\"#d8576b\"],[0.6666666666666666,\"#ed7953\"],[0.7777777777777778,\"#fb9f3a\"],[0.8888888888888888,\"#fdca26\"],[1.0,\"#f0f921\"]]}],\"mesh3d\":[{\"type\":\"mesh3d\",\"colorbar\":{\"outlinewidth\":0,\"ticks\":\"\"}}],\"scatter\":[{\"fillpattern\":{\"fillmode\":\"overlay\",\"size\":10,\"solidity\":0.2},\"type\":\"scatter\"}],\"parcoords\":[{\"type\":\"parcoords\",\"line\":{\"colorbar\":{\"outlinewidth\":0,\"ticks\":\"\"}}}],\"scatterpolargl\":[{\"type\":\"scatterpolargl\",\"marker\":{\"colorbar\":{\"outlinewidth\":0,\"ticks\":\"\"}}}],\"bar\":[{\"error_x\":{\"color\":\"#2a3f5f\"},\"error_y\":{\"color\":\"#2a3f5f\"},\"marker\":{\"line\":{\"color\":\"#E5ECF6\",\"width\":0.5},\"pattern\":{\"fillmode\":\"overlay\",\"size\":10,\"solidity\":0.2}},\"type\":\"bar\"}],\"scattergeo\":[{\"type\":\"scattergeo\",\"marker\":{\"colorbar\":{\"outlinewidth\":0,\"ticks\":\"\"}}}],\"scatterpolar\":[{\"type\":\"scatterpolar\",\"marker\":{\"colorbar\":{\"outlinewidth\":0,\"ticks\":\"\"}}}],\"histogram\":[{\"marker\":{\"pattern\":{\"fillmode\":\"overlay\",\"size\":10,\"solidity\":0.2}},\"type\":\"histogram\"}],\"scattergl\":[{\"type\":\"scattergl\",\"marker\":{\"colorbar\":{\"outlinewidth\":0,\"ticks\":\"\"}}}],\"scatter3d\":[{\"type\":\"scatter3d\",\"line\":{\"colorbar\":{\"outlinewidth\":0,\"ticks\":\"\"}},\"marker\":{\"colorbar\":{\"outlinewidth\":0,\"ticks\":\"\"}}}],\"scattermapbox\":[{\"type\":\"scattermapbox\",\"marker\":{\"colorbar\":{\"outlinewidth\":0,\"ticks\":\"\"}}}],\"scatterternary\":[{\"type\":\"scatterternary\",\"marker\":{\"colorbar\":{\"outlinewidth\":0,\"ticks\":\"\"}}}],\"scattercarpet\":[{\"type\":\"scattercarpet\",\"marker\":{\"colorbar\":{\"outlinewidth\":0,\"ticks\":\"\"}}}],\"carpet\":[{\"aaxis\":{\"endlinecolor\":\"#2a3f5f\",\"gridcolor\":\"white\",\"linecolor\":\"white\",\"minorgridcolor\":\"white\",\"startlinecolor\":\"#2a3f5f\"},\"baxis\":{\"endlinecolor\":\"#2a3f5f\",\"gridcolor\":\"white\",\"linecolor\":\"white\",\"minorgridcolor\":\"white\",\"startlinecolor\":\"#2a3f5f\"},\"type\":\"carpet\"}],\"table\":[{\"cells\":{\"fill\":{\"color\":\"#EBF0F8\"},\"line\":{\"color\":\"white\"}},\"header\":{\"fill\":{\"color\":\"#C8D4E3\"},\"line\":{\"color\":\"white\"}},\"type\":\"table\"}],\"barpolar\":[{\"marker\":{\"line\":{\"color\":\"#E5ECF6\",\"width\":0.5},\"pattern\":{\"fillmode\":\"overlay\",\"size\":10,\"solidity\":0.2}},\"type\":\"barpolar\"}],\"pie\":[{\"automargin\":true,\"type\":\"pie\"}]},\"layout\":{\"autotypenumbers\":\"strict\",\"colorway\":[\"#636efa\",\"#EF553B\",\"#00cc96\",\"#ab63fa\",\"#FFA15A\",\"#19d3f3\",\"#FF6692\",\"#B6E880\",\"#FF97FF\",\"#FECB52\"],\"font\":{\"color\":\"#2a3f5f\"},\"hovermode\":\"closest\",\"hoverlabel\":{\"align\":\"left\"},\"paper_bgcolor\":\"white\",\"plot_bgcolor\":\"#E5ECF6\",\"polar\":{\"bgcolor\":\"#E5ECF6\",\"angularaxis\":{\"gridcolor\":\"white\",\"linecolor\":\"white\",\"ticks\":\"\"},\"radialaxis\":{\"gridcolor\":\"white\",\"linecolor\":\"white\",\"ticks\":\"\"}},\"ternary\":{\"bgcolor\":\"#E5ECF6\",\"aaxis\":{\"gridcolor\":\"white\",\"linecolor\":\"white\",\"ticks\":\"\"},\"baxis\":{\"gridcolor\":\"white\",\"linecolor\":\"white\",\"ticks\":\"\"},\"caxis\":{\"gridcolor\":\"white\",\"linecolor\":\"white\",\"ticks\":\"\"}},\"coloraxis\":{\"colorbar\":{\"outlinewidth\":0,\"ticks\":\"\"}},\"colorscale\":{\"sequential\":[[0.0,\"#0d0887\"],[0.1111111111111111,\"#46039f\"],[0.2222222222222222,\"#7201a8\"],[0.3333333333333333,\"#9c179e\"],[0.4444444444444444,\"#bd3786\"],[0.5555555555555556,\"#d8576b\"],[0.6666666666666666,\"#ed7953\"],[0.7777777777777778,\"#fb9f3a\"],[0.8888888888888888,\"#fdca26\"],[1.0,\"#f0f921\"]],\"sequentialminus\":[[0.0,\"#0d0887\"],[0.1111111111111111,\"#46039f\"],[0.2222222222222222,\"#7201a8\"],[0.3333333333333333,\"#9c179e\"],[0.4444444444444444,\"#bd3786\"],[0.5555555555555556,\"#d8576b\"],[0.6666666666666666,\"#ed7953\"],[0.7777777777777778,\"#fb9f3a\"],[0.8888888888888888,\"#fdca26\"],[1.0,\"#f0f921\"]],\"diverging\":[[0,\"#8e0152\"],[0.1,\"#c51b7d\"],[0.2,\"#de77ae\"],[0.3,\"#f1b6da\"],[0.4,\"#fde0ef\"],[0.5,\"#f7f7f7\"],[0.6,\"#e6f5d0\"],[0.7,\"#b8e186\"],[0.8,\"#7fbc41\"],[0.9,\"#4d9221\"],[1,\"#276419\"]]},\"xaxis\":{\"gridcolor\":\"white\",\"linecolor\":\"white\",\"ticks\":\"\",\"title\":{\"standoff\":15},\"zerolinecolor\":\"white\",\"automargin\":true,\"zerolinewidth\":2},\"yaxis\":{\"gridcolor\":\"white\",\"linecolor\":\"white\",\"ticks\":\"\",\"title\":{\"standoff\":15},\"zerolinecolor\":\"white\",\"automargin\":true,\"zerolinewidth\":2},\"scene\":{\"xaxis\":{\"backgroundcolor\":\"#E5ECF6\",\"gridcolor\":\"white\",\"linecolor\":\"white\",\"showbackground\":true,\"ticks\":\"\",\"zerolinecolor\":\"white\",\"gridwidth\":2},\"yaxis\":{\"backgroundcolor\":\"#E5ECF6\",\"gridcolor\":\"white\",\"linecolor\":\"white\",\"showbackground\":true,\"ticks\":\"\",\"zerolinecolor\":\"white\",\"gridwidth\":2},\"zaxis\":{\"backgroundcolor\":\"#E5ECF6\",\"gridcolor\":\"white\",\"linecolor\":\"white\",\"showbackground\":true,\"ticks\":\"\",\"zerolinecolor\":\"white\",\"gridwidth\":2}},\"shapedefaults\":{\"line\":{\"color\":\"#2a3f5f\"}},\"annotationdefaults\":{\"arrowcolor\":\"#2a3f5f\",\"arrowhead\":0,\"arrowwidth\":1},\"geo\":{\"bgcolor\":\"white\",\"landcolor\":\"#E5ECF6\",\"subunitcolor\":\"white\",\"showland\":true,\"showlakes\":true,\"lakecolor\":\"white\"},\"title\":{\"x\":0.05},\"mapbox\":{\"style\":\"light\"}}},\"xaxis\":{\"anchor\":\"y\",\"domain\":[0.0,1.0],\"title\":{\"text\":\"property\"},\"type\":\"log\",\"range\":[0.0,1.1760912590556811]},\"yaxis\":{\"anchor\":\"x\",\"domain\":[0.0,1.0],\"title\":{\"text\":\"frequency\"},\"range\":[-1,50]},\"legend\":{\"title\":{\"text\":\"continent\"},\"tracegroupgap\":0,\"itemsizing\":\"constant\"},\"margin\":{\"t\":60},\"sliders\":[{\"active\":0,\"currentvalue\":{\"prefix\":\"year=\"},\"len\":0.9,\"pad\":{\"b\":10,\"t\":60},\"steps\":[{\"args\":[[\"2011\"],{\"frame\":{\"duration\":0,\"redraw\":false},\"mode\":\"immediate\",\"fromcurrent\":true,\"transition\":{\"duration\":0,\"easing\":\"linear\"}}],\"label\":\"2011\",\"method\":\"animate\"},{\"args\":[[\"2012\"],{\"frame\":{\"duration\":0,\"redraw\":false},\"mode\":\"immediate\",\"fromcurrent\":true,\"transition\":{\"duration\":0,\"easing\":\"linear\"}}],\"label\":\"2012\",\"method\":\"animate\"},{\"args\":[[\"2013\"],{\"frame\":{\"duration\":0,\"redraw\":false},\"mode\":\"immediate\",\"fromcurrent\":true,\"transition\":{\"duration\":0,\"easing\":\"linear\"}}],\"label\":\"2013\",\"method\":\"animate\"},{\"args\":[[\"2014\"],{\"frame\":{\"duration\":0,\"redraw\":false},\"mode\":\"immediate\",\"fromcurrent\":true,\"transition\":{\"duration\":0,\"easing\":\"linear\"}}],\"label\":\"2014\",\"method\":\"animate\"},{\"args\":[[\"2015\"],{\"frame\":{\"duration\":0,\"redraw\":false},\"mode\":\"immediate\",\"fromcurrent\":true,\"transition\":{\"duration\":0,\"easing\":\"linear\"}}],\"label\":\"2015\",\"method\":\"animate\"},{\"args\":[[\"2016\"],{\"frame\":{\"duration\":0,\"redraw\":false},\"mode\":\"immediate\",\"fromcurrent\":true,\"transition\":{\"duration\":0,\"easing\":\"linear\"}}],\"label\":\"2016\",\"method\":\"animate\"},{\"args\":[[\"2017\"],{\"frame\":{\"duration\":0,\"redraw\":false},\"mode\":\"immediate\",\"fromcurrent\":true,\"transition\":{\"duration\":0,\"easing\":\"linear\"}}],\"label\":\"2017\",\"method\":\"animate\"},{\"args\":[[\"2018\"],{\"frame\":{\"duration\":0,\"redraw\":false},\"mode\":\"immediate\",\"fromcurrent\":true,\"transition\":{\"duration\":0,\"easing\":\"linear\"}}],\"label\":\"2018\",\"method\":\"animate\"},{\"args\":[[\"2019\"],{\"frame\":{\"duration\":0,\"redraw\":false},\"mode\":\"immediate\",\"fromcurrent\":true,\"transition\":{\"duration\":0,\"easing\":\"linear\"}}],\"label\":\"2019\",\"method\":\"animate\"},{\"args\":[[\"2020\"],{\"frame\":{\"duration\":0,\"redraw\":false},\"mode\":\"immediate\",\"fromcurrent\":true,\"transition\":{\"duration\":0,\"easing\":\"linear\"}}],\"label\":\"2020\",\"method\":\"animate\"},{\"args\":[[\"2021\"],{\"frame\":{\"duration\":0,\"redraw\":false},\"mode\":\"immediate\",\"fromcurrent\":true,\"transition\":{\"duration\":0,\"easing\":\"linear\"}}],\"label\":\"2021\",\"method\":\"animate\"}],\"x\":0.1,\"xanchor\":\"left\",\"y\":0,\"yanchor\":\"top\"}]},                        {\"responsive\": true}                    ).then(function(){\n",
       "                            Plotly.addFrames('773e1c80-a2b3-4aaf-ab13-5bb28edc6add', [{\"data\":[{\"hovertemplate\":\"<b>%{hovertext}</b><br><br>continent=material<br>year=2011<br>property=%{x}<br>frequency=%{y}<br>pop=%{marker.size}<br>text=%{text}<extra></extra>\",\"hovertext\":[\"material\"],\"ids\":[\"material\"],\"legendgroup\":\"material\",\"marker\":{\"color\":\"#636efa\",\"size\":[45],\"sizemode\":\"area\",\"sizeref\":0.04628099173553719,\"symbol\":\"circle\"},\"mode\":\"markers+text\",\"name\":\"material\",\"orientation\":\"v\",\"showlegend\":true,\"text\":[\"hominicin\"],\"x\":[13],\"xaxis\":\"x\",\"y\":[9],\"yaxis\":\"y\",\"type\":\"scatter\"},{\"hovertemplate\":\"<b>%{hovertext}</b><br><br>continent=\\uc5f0\\uad6c\\uc8fc\\uc81c(\\ud2b9\\uc131)<br>year=2011<br>property=%{x}<br>frequency=%{y}<br>pop=%{marker.size}<br>text=%{text}<extra></extra>\",\"hovertext\":[\"\\uc5f0\\uad6c\\uc8fc\\uc81c\"],\"ids\":[\"\\uc5f0\\uad6c\\uc8fc\\uc81c\"],\"legendgroup\":\"\\uc5f0\\uad6c\\uc8fc\\uc81c(\\ud2b9\\uc131)\",\"marker\":{\"color\":\"#EF553B\",\"size\":[0],\"sizemode\":\"area\",\"sizeref\":0.04628099173553719,\"symbol\":\"circle\"},\"mode\":\"markers+text\",\"name\":\"\\uc5f0\\uad6c\\uc8fc\\uc81c(\\ud2b9\\uc131)\",\"orientation\":\"v\",\"showlegend\":true,\"text\":[null],\"x\":[10],\"xaxis\":\"x\",\"y\":[0],\"yaxis\":\"y\",\"type\":\"scatter\"},{\"hovertemplate\":\"<b>%{hovertext}</b><br><br>continent=\\uc5f0\\uad6c\\uc8fc\\uc81c(\\uadf8\\uc678-biological process)<br>year=2011<br>property=%{x}<br>frequency=%{y}<br>pop=%{marker.size}<br>text=%{text}<extra></extra>\",\"hovertext\":[\"\\uc5f0\\uad6c\\uc8fc\\uc81c\"],\"ids\":[\"\\uc5f0\\uad6c\\uc8fc\\uc81c\"],\"legendgroup\":\"\\uc5f0\\uad6c\\uc8fc\\uc81c(\\uadf8\\uc678-biological process)\",\"marker\":{\"color\":\"#00cc96\",\"size\":[10],\"sizemode\":\"area\",\"sizeref\":0.04628099173553719,\"symbol\":\"circle\"},\"mode\":\"markers+text\",\"name\":\"\\uc5f0\\uad6c\\uc8fc\\uc81c(\\uadf8\\uc678-biological process)\",\"orientation\":\"v\",\"showlegend\":true,\"text\":[\"apoptosis\"],\"x\":[6],\"xaxis\":\"x\",\"y\":[2],\"yaxis\":\"y\",\"type\":\"scatter\"},{\"hovertemplate\":\"<b>%{hovertext}</b><br><br>continent=source<br>year=2011<br>property=%{x}<br>frequency=%{y}<br>pop=%{marker.size}<br>text=%{text}<extra></extra>\",\"hovertext\":[\"source\"],\"ids\":[\"source\"],\"legendgroup\":\"source\",\"marker\":{\"color\":\"#FFA15A\",\"size\":[5],\"sizemode\":\"area\",\"sizeref\":0.04628099173553719,\"symbol\":\"circle\"},\"mode\":\"markers+text\",\"name\":\"source\",\"orientation\":\"v\",\"showlegend\":true,\"text\":[\"staphylococcus hominis\"],\"x\":[2],\"xaxis\":\"x\",\"y\":[1],\"yaxis\":\"y\",\"type\":\"scatter\"}],\"name\":\"2011\"},{\"data\":[{\"hovertemplate\":\"<b>%{hovertext}</b><br><br>continent=material<br>year=2012<br>property=%{x}<br>frequency=%{y}<br>pop=%{marker.size}<br>text=%{text}<extra></extra>\",\"hovertext\":[\"material\"],\"ids\":[\"material\"],\"legendgroup\":\"material\",\"marker\":{\"color\":\"#636efa\",\"size\":[120],\"sizemode\":\"area\",\"sizeref\":0.04628099173553719,\"symbol\":\"circle\"},\"mode\":\"markers+text\",\"name\":\"material\",\"orientation\":\"v\",\"showlegend\":true,\"text\":[\"hsp33\"],\"x\":[13],\"xaxis\":\"x\",\"y\":[24],\"yaxis\":\"y\",\"type\":\"scatter\"},{\"hovertemplate\":\"<b>%{hovertext}</b><br><br>continent=\\uc5f0\\uad6c\\uc8fc\\uc81c(\\ud2b9\\uc131)<br>year=2012<br>property=%{x}<br>frequency=%{y}<br>pop=%{marker.size}<br>text=%{text}<extra></extra>\",\"hovertext\":[\"\\uc5f0\\uad6c\\uc8fc\\uc81c\"],\"ids\":[\"\\uc5f0\\uad6c\\uc8fc\\uc81c\"],\"legendgroup\":\"\\uc5f0\\uad6c\\uc8fc\\uc81c(\\ud2b9\\uc131)\",\"marker\":{\"color\":\"#EF553B\",\"size\":[25],\"sizemode\":\"area\",\"sizeref\":0.04628099173553719,\"symbol\":\"circle\"},\"mode\":\"markers+text\",\"name\":\"\\uc5f0\\uad6c\\uc8fc\\uc81c(\\ud2b9\\uc131)\",\"orientation\":\"v\",\"showlegend\":true,\"text\":[\"conformational change\"],\"x\":[10],\"xaxis\":\"x\",\"y\":[5],\"yaxis\":\"y\",\"type\":\"scatter\"},{\"hovertemplate\":\"<b>%{hovertext}</b><br><br>continent=\\uc5f0\\uad6c\\uc8fc\\uc81c(\\uc2e4\\ud5d8\\uae30\\uc220/\\ubc29\\ubc95)<br>year=2012<br>property=%{x}<br>frequency=%{y}<br>pop=%{marker.size}<br>text=%{text}<extra></extra>\",\"hovertext\":[\"\\uc5f0\\uad6c\\uc8fc\\uc81c\"],\"ids\":[\"\\uc5f0\\uad6c\\uc8fc\\uc81c\"],\"legendgroup\":\"\\uc5f0\\uad6c\\uc8fc\\uc81c(\\uc2e4\\ud5d8\\uae30\\uc220/\\ubc29\\ubc95)\",\"marker\":{\"color\":\"#ab63fa\",\"size\":[15],\"sizemode\":\"area\",\"sizeref\":0.04628099173553719,\"symbol\":\"circle\"},\"mode\":\"markers+text\",\"name\":\"\\uc5f0\\uad6c\\uc8fc\\uc81c(\\uc2e4\\ud5d8\\uae30\\uc220/\\ubc29\\ubc95)\",\"orientation\":\"v\",\"showlegend\":true,\"text\":[\"checkpoint signal\"],\"x\":[6],\"xaxis\":\"x\",\"y\":[3],\"yaxis\":\"y\",\"type\":\"scatter\"},{\"hovertemplate\":\"<b>%{hovertext}</b><br><br>continent=source<br>year=2012<br>property=%{x}<br>frequency=%{y}<br>pop=%{marker.size}<br>text=%{text}<extra></extra>\",\"hovertext\":[\"source\"],\"ids\":[\"source\"],\"legendgroup\":\"source\",\"marker\":{\"color\":\"#FFA15A\",\"size\":[10],\"sizemode\":\"area\",\"sizeref\":0.04628099173553719,\"symbol\":\"circle\"},\"mode\":\"markers+text\",\"name\":\"source\",\"orientation\":\"v\",\"showlegend\":true,\"text\":[\"pichia pastoris\"],\"x\":[2],\"xaxis\":\"x\",\"y\":[2],\"yaxis\":\"y\",\"type\":\"scatter\"}],\"name\":\"2012\"},{\"data\":[{\"hovertemplate\":\"<b>%{hovertext}</b><br><br>continent=material<br>year=2013<br>property=%{x}<br>frequency=%{y}<br>pop=%{marker.size}<br>text=%{text}<extra></extra>\",\"hovertext\":[\"material\"],\"ids\":[\"material\"],\"legendgroup\":\"material\",\"marker\":{\"color\":\"#636efa\",\"size\":[80],\"sizemode\":\"area\",\"sizeref\":0.04628099173553719,\"symbol\":\"circle\"},\"mode\":\"markers+text\",\"name\":\"material\",\"orientation\":\"v\",\"showlegend\":true,\"text\":[\"isocitrate lyase\"],\"x\":[13],\"xaxis\":\"x\",\"y\":[18],\"yaxis\":\"y\",\"type\":\"scatter\"},{\"hovertemplate\":\"<b>%{hovertext}</b><br><br>continent=\\uc5f0\\uad6c\\uc8fc\\uc81c(\\ud2b9\\uc131)<br>year=2013<br>property=%{x}<br>frequency=%{y}<br>pop=%{marker.size}<br>text=%{text}<extra></extra>\",\"hovertext\":[\"\\uc5f0\\uad6c\\uc8fc\\uc81c\"],\"ids\":[\"\\uc5f0\\uad6c\\uc8fc\\uc81c\"],\"legendgroup\":\"\\uc5f0\\uad6c\\uc8fc\\uc81c(\\ud2b9\\uc131)\",\"marker\":{\"color\":\"#EF553B\",\"size\":[40],\"sizemode\":\"area\",\"sizeref\":0.04628099173553719,\"symbol\":\"circle\"},\"mode\":\"markers+text\",\"name\":\"\\uc5f0\\uad6c\\uc8fc\\uc81c(\\ud2b9\\uc131)\",\"orientation\":\"v\",\"showlegend\":true,\"text\":[\"cytotoxicity\"],\"x\":[10],\"xaxis\":\"x\",\"y\":[8],\"yaxis\":\"y\",\"type\":\"scatter\"},{\"hovertemplate\":\"<b>%{hovertext}</b><br><br>continent=\\uc5f0\\uad6c\\uc8fc\\uc81c(\\uadf8\\uc678-biological process)<br>year=2013<br>property=%{x}<br>frequency=%{y}<br>pop=%{marker.size}<br>text=%{text}<extra></extra>\",\"hovertext\":[\"\\uc5f0\\uad6c\\uc8fc\\uc81c\"],\"ids\":[\"\\uc5f0\\uad6c\\uc8fc\\uc81c\"],\"legendgroup\":\"\\uc5f0\\uad6c\\uc8fc\\uc81c(\\uadf8\\uc678-biological process)\",\"marker\":{\"color\":\"#00cc96\",\"size\":[20],\"sizemode\":\"area\",\"sizeref\":0.04628099173553719,\"symbol\":\"circle\"},\"mode\":\"markers+text\",\"name\":\"\\uc5f0\\uad6c\\uc8fc\\uc81c(\\uadf8\\uc678-biological process)\",\"orientation\":\"v\",\"showlegend\":true,\"text\":[\"cancer\"],\"x\":[6],\"xaxis\":\"x\",\"y\":[4],\"yaxis\":\"y\",\"type\":\"scatter\"},{\"hovertemplate\":\"<b>%{hovertext}</b><br><br>continent=source<br>year=2013<br>property=%{x}<br>frequency=%{y}<br>pop=%{marker.size}<br>text=%{text}<extra></extra>\",\"hovertext\":[\"source\"],\"ids\":[\"source\"],\"legendgroup\":\"source\",\"marker\":{\"color\":\"#FFA15A\",\"size\":[20],\"sizemode\":\"area\",\"sizeref\":0.04628099173553719,\"symbol\":\"circle\"},\"mode\":\"markers+text\",\"name\":\"source\",\"orientation\":\"v\",\"showlegend\":true,\"text\":[\"streptomyces sp\"],\"x\":[2],\"xaxis\":\"x\",\"y\":[4],\"yaxis\":\"y\",\"type\":\"scatter\"}],\"name\":\"2013\"},{\"data\":[{\"hovertemplate\":\"<b>%{hovertext}</b><br><br>continent=material<br>year=2014<br>property=%{x}<br>frequency=%{y}<br>pop=%{marker.size}<br>text=%{text}<extra></extra>\",\"hovertext\":[\"material\"],\"ids\":[\"material\"],\"legendgroup\":\"material\",\"marker\":{\"color\":\"#636efa\",\"size\":[115],\"sizemode\":\"area\",\"sizeref\":0.04628099173553719,\"symbol\":\"circle\"},\"mode\":\"markers+text\",\"name\":\"material\",\"orientation\":\"v\",\"showlegend\":true,\"text\":[\"metallop\"],\"x\":[13],\"xaxis\":\"x\",\"y\":[23],\"yaxis\":\"y\",\"type\":\"scatter\"},{\"hovertemplate\":\"<b>%{hovertext}</b><br><br>continent=\\uc5f0\\uad6c\\uc8fc\\uc81c(\\ud2b9\\uc131)<br>year=2014<br>property=%{x}<br>frequency=%{y}<br>pop=%{marker.size}<br>text=%{text}<extra></extra>\",\"hovertext\":[\"\\uc5f0\\uad6c\\uc8fc\\uc81c\"],\"ids\":[\"\\uc5f0\\uad6c\\uc8fc\\uc81c\"],\"legendgroup\":\"\\uc5f0\\uad6c\\uc8fc\\uc81c(\\ud2b9\\uc131)\",\"marker\":{\"color\":\"#EF553B\",\"size\":[10],\"sizemode\":\"area\",\"sizeref\":0.04628099173553719,\"symbol\":\"circle\"},\"mode\":\"markers+text\",\"name\":\"\\uc5f0\\uad6c\\uc8fc\\uc81c(\\ud2b9\\uc131)\",\"orientation\":\"v\",\"showlegend\":true,\"text\":[\"sensory domain\"],\"x\":[10],\"xaxis\":\"x\",\"y\":[2],\"yaxis\":\"y\",\"type\":\"scatter\"},{\"hovertemplate\":\"<b>%{hovertext}</b><br><br>continent=\\uc5f0\\uad6c\\uc8fc\\uc81c(\\uadf8\\uc678-biological process)<br>year=2014<br>property=%{x}<br>frequency=%{y}<br>pop=%{marker.size}<br>text=%{text}<extra></extra>\",\"hovertext\":[\"\\uc5f0\\uad6c\\uc8fc\\uc81c\"],\"ids\":[\"\\uc5f0\\uad6c\\uc8fc\\uc81c\"],\"legendgroup\":\"\\uc5f0\\uad6c\\uc8fc\\uc81c(\\uadf8\\uc678-biological process)\",\"marker\":{\"color\":\"#00cc96\",\"size\":[5],\"sizemode\":\"area\",\"sizeref\":0.04628099173553719,\"symbol\":\"circle\"},\"mode\":\"markers+text\",\"name\":\"\\uc5f0\\uad6c\\uc8fc\\uc81c(\\uadf8\\uc678-biological process)\",\"orientation\":\"v\",\"showlegend\":true,\"text\":[\"breast cancer\"],\"x\":[6],\"xaxis\":\"x\",\"y\":[1],\"yaxis\":\"y\",\"type\":\"scatter\"},{\"hovertemplate\":\"<b>%{hovertext}</b><br><br>continent=source<br>year=2014<br>property=%{x}<br>frequency=%{y}<br>pop=%{marker.size}<br>text=%{text}<extra></extra>\",\"hovertext\":[\"source\"],\"ids\":[\"source\"],\"legendgroup\":\"source\",\"marker\":{\"color\":\"#FFA15A\",\"size\":[20],\"sizemode\":\"area\",\"sizeref\":0.04628099173553719,\"symbol\":\"circle\"},\"mode\":\"markers+text\",\"name\":\"source\",\"orientation\":\"v\",\"showlegend\":true,\"text\":[\"vibrio vulnificus\"],\"x\":[2],\"xaxis\":\"x\",\"y\":[4],\"yaxis\":\"y\",\"type\":\"scatter\"}],\"name\":\"2014\"},{\"data\":[{\"hovertemplate\":\"<b>%{hovertext}</b><br><br>continent=material<br>year=2015<br>property=%{x}<br>frequency=%{y}<br>pop=%{marker.size}<br>text=%{text}<extra></extra>\",\"hovertext\":[\"material\"],\"ids\":[\"material\"],\"legendgroup\":\"material\",\"marker\":{\"color\":\"#636efa\",\"size\":[90],\"sizemode\":\"area\",\"sizeref\":0.04628099173553719,\"symbol\":\"circle\"},\"mode\":\"markers+text\",\"name\":\"material\",\"orientation\":\"v\",\"showlegend\":true,\"text\":[\"calmodulin\"],\"x\":[13],\"xaxis\":\"x\",\"y\":[16],\"yaxis\":\"y\",\"type\":\"scatter\"},{\"hovertemplate\":\"<b>%{hovertext}</b><br><br>continent=\\uc5f0\\uad6c\\uc8fc\\uc81c(\\ud2b9\\uc131)<br>year=2015<br>property=%{x}<br>frequency=%{y}<br>pop=%{marker.size}<br>text=%{text}<extra></extra>\",\"hovertext\":[\"\\uc5f0\\uad6c\\uc8fc\\uc81c\"],\"ids\":[\"\\uc5f0\\uad6c\\uc8fc\\uc81c\"],\"legendgroup\":\"\\uc5f0\\uad6c\\uc8fc\\uc81c(\\ud2b9\\uc131)\",\"marker\":{\"color\":\"#EF553B\",\"size\":[15],\"sizemode\":\"area\",\"sizeref\":0.04628099173553719,\"symbol\":\"circle\"},\"mode\":\"markers+text\",\"name\":\"\\uc5f0\\uad6c\\uc8fc\\uc81c(\\ud2b9\\uc131)\",\"orientation\":\"v\",\"showlegend\":true,\"text\":[\"hox-dna binding\"],\"x\":[10],\"xaxis\":\"x\",\"y\":[3],\"yaxis\":\"y\",\"type\":\"scatter\"},{\"hovertemplate\":\"<b>%{hovertext}</b><br><br>continent=\\uc5f0\\uad6c\\uc8fc\\uc81c(\\uadf8\\uc678-biological process)<br>year=2015<br>property=%{x}<br>frequency=%{y}<br>pop=%{marker.size}<br>text=%{text}<extra></extra>\",\"hovertext\":[\"\\uc5f0\\uad6c\\uc8fc\\uc81c\"],\"ids\":[\"\\uc5f0\\uad6c\\uc8fc\\uc81c\"],\"legendgroup\":\"\\uc5f0\\uad6c\\uc8fc\\uc81c(\\uadf8\\uc678-biological process)\",\"marker\":{\"color\":\"#00cc96\",\"size\":[0],\"sizemode\":\"area\",\"sizeref\":0.04628099173553719,\"symbol\":\"circle\"},\"mode\":\"markers+text\",\"name\":\"\\uc5f0\\uad6c\\uc8fc\\uc81c(\\uadf8\\uc678-biological process)\",\"orientation\":\"v\",\"showlegend\":true,\"text\":[null],\"x\":[6],\"xaxis\":\"x\",\"y\":[0],\"yaxis\":\"y\",\"type\":\"scatter\"},{\"hovertemplate\":\"<b>%{hovertext}</b><br><br>continent=source<br>year=2015<br>property=%{x}<br>frequency=%{y}<br>pop=%{marker.size}<br>text=%{text}<extra></extra>\",\"hovertext\":[\"source\"],\"ids\":[\"source\"],\"legendgroup\":\"source\",\"marker\":{\"color\":\"#FFA15A\",\"size\":[20],\"sizemode\":\"area\",\"sizeref\":0.04628099173553719,\"symbol\":\"circle\"},\"mode\":\"markers+text\",\"name\":\"source\",\"orientation\":\"v\",\"showlegend\":true,\"text\":[\"streptomyces sp\"],\"x\":[2],\"xaxis\":\"x\",\"y\":[4],\"yaxis\":\"y\",\"type\":\"scatter\"}],\"name\":\"2015\"},{\"data\":[{\"hovertemplate\":\"<b>%{hovertext}</b><br><br>continent=material<br>year=2016<br>property=%{x}<br>frequency=%{y}<br>pop=%{marker.size}<br>text=%{text}<extra></extra>\",\"hovertext\":[\"material\"],\"ids\":[\"material\"],\"legendgroup\":\"material\",\"marker\":{\"color\":\"#636efa\",\"size\":[90],\"sizemode\":\"area\",\"sizeref\":0.04628099173553719,\"symbol\":\"circle\"},\"mode\":\"markers+text\",\"name\":\"material\",\"orientation\":\"v\",\"showlegend\":true,\"text\":[\"asteropsin f\"],\"x\":[13],\"xaxis\":\"x\",\"y\":[16],\"yaxis\":\"y\",\"type\":\"scatter\"},{\"hovertemplate\":\"<b>%{hovertext}</b><br><br>continent=\\uc5f0\\uad6c\\uc8fc\\uc81c(\\ud2b9\\uc131)<br>year=2016<br>property=%{x}<br>frequency=%{y}<br>pop=%{marker.size}<br>text=%{text}<extra></extra>\",\"hovertext\":[\"\\uc5f0\\uad6c\\uc8fc\\uc81c\"],\"ids\":[\"\\uc5f0\\uad6c\\uc8fc\\uc81c\"],\"legendgroup\":\"\\uc5f0\\uad6c\\uc8fc\\uc81c(\\ud2b9\\uc131)\",\"marker\":{\"color\":\"#EF553B\",\"size\":[30],\"sizemode\":\"area\",\"sizeref\":0.04628099173553719,\"symbol\":\"circle\"},\"mode\":\"markers+text\",\"name\":\"\\uc5f0\\uad6c\\uc8fc\\uc81c(\\ud2b9\\uc131)\",\"orientation\":\"v\",\"showlegend\":true,\"text\":[\"assignment principle\"],\"x\":[10],\"xaxis\":\"x\",\"y\":[6],\"yaxis\":\"y\",\"type\":\"scatter\"},{\"hovertemplate\":\"<b>%{hovertext}</b><br><br>continent=\\uc5f0\\uad6c\\uc8fc\\uc81c(\\uadf8\\uc678-biological process)<br>year=2016<br>property=%{x}<br>frequency=%{y}<br>pop=%{marker.size}<br>text=%{text}<extra></extra>\",\"hovertext\":[\"\\uc5f0\\uad6c\\uc8fc\\uc81c\"],\"ids\":[\"\\uc5f0\\uad6c\\uc8fc\\uc81c\"],\"legendgroup\":\"\\uc5f0\\uad6c\\uc8fc\\uc81c(\\uadf8\\uc678-biological process)\",\"marker\":{\"color\":\"#00cc96\",\"size\":[15],\"sizemode\":\"area\",\"sizeref\":0.04628099173553719,\"symbol\":\"circle\"},\"mode\":\"markers+text\",\"name\":\"\\uc5f0\\uad6c\\uc8fc\\uc81c(\\uadf8\\uc678-biological process)\",\"orientation\":\"v\",\"showlegend\":true,\"text\":[\"asthma\"],\"x\":[6],\"xaxis\":\"x\",\"y\":[3],\"yaxis\":\"y\",\"type\":\"scatter\"},{\"hovertemplate\":\"<b>%{hovertext}</b><br><br>continent=source<br>year=2016<br>property=%{x}<br>frequency=%{y}<br>pop=%{marker.size}<br>text=%{text}<extra></extra>\",\"hovertext\":[\"source\"],\"ids\":[\"source\"],\"legendgroup\":\"source\",\"marker\":{\"color\":\"#FFA15A\",\"size\":[35],\"sizemode\":\"area\",\"sizeref\":0.04628099173553719,\"symbol\":\"circle\"},\"mode\":\"markers+text\",\"name\":\"source\",\"orientation\":\"v\",\"showlegend\":true,\"text\":[\"marine sponge\"],\"x\":[2],\"xaxis\":\"x\",\"y\":[7],\"yaxis\":\"y\",\"type\":\"scatter\"}],\"name\":\"2016\"},{\"data\":[{\"hovertemplate\":\"<b>%{hovertext}</b><br><br>continent=material<br>year=2017<br>property=%{x}<br>frequency=%{y}<br>pop=%{marker.size}<br>text=%{text}<extra></extra>\",\"hovertext\":[\"material\"],\"ids\":[\"material\"],\"legendgroup\":\"material\",\"marker\":{\"color\":\"#636efa\",\"size\":[140],\"sizemode\":\"area\",\"sizeref\":0.04628099173553719,\"symbol\":\"circle\"},\"mode\":\"markers+text\",\"name\":\"material\",\"orientation\":\"v\",\"showlegend\":true,\"text\":[\"angiogenin\"],\"x\":[13],\"xaxis\":\"x\",\"y\":[28],\"yaxis\":\"y\",\"type\":\"scatter\"},{\"hovertemplate\":\"<b>%{hovertext}</b><br><br>continent=\\uc5f0\\uad6c\\uc8fc\\uc81c(\\ud2b9\\uc131)<br>year=2017<br>property=%{x}<br>frequency=%{y}<br>pop=%{marker.size}<br>text=%{text}<extra></extra>\",\"hovertext\":[\"\\uc5f0\\uad6c\\uc8fc\\uc81c\"],\"ids\":[\"\\uc5f0\\uad6c\\uc8fc\\uc81c\"],\"legendgroup\":\"\\uc5f0\\uad6c\\uc8fc\\uc81c(\\ud2b9\\uc131)\",\"marker\":{\"color\":\"#EF553B\",\"size\":[30],\"sizemode\":\"area\",\"sizeref\":0.04628099173553719,\"symbol\":\"circle\"},\"mode\":\"markers+text\",\"name\":\"\\uc5f0\\uad6c\\uc8fc\\uc81c(\\ud2b9\\uc131)\",\"orientation\":\"v\",\"showlegend\":true,\"text\":[\"crystal structure\"],\"x\":[10],\"xaxis\":\"x\",\"y\":[6],\"yaxis\":\"y\",\"type\":\"scatter\"},{\"hovertemplate\":\"<b>%{hovertext}</b><br><br>continent=\\uc5f0\\uad6c\\uc8fc\\uc81c(\\uadf8\\uc678-biological process)<br>year=2017<br>property=%{x}<br>frequency=%{y}<br>pop=%{marker.size}<br>text=%{text}<extra></extra>\",\"hovertext\":[\"\\uc5f0\\uad6c\\uc8fc\\uc81c\"],\"ids\":[\"\\uc5f0\\uad6c\\uc8fc\\uc81c\"],\"legendgroup\":\"\\uc5f0\\uad6c\\uc8fc\\uc81c(\\uadf8\\uc678-biological process)\",\"marker\":{\"color\":\"#00cc96\",\"size\":[10],\"sizemode\":\"area\",\"sizeref\":0.04628099173553719,\"symbol\":\"circle\"},\"mode\":\"markers+text\",\"name\":\"\\uc5f0\\uad6c\\uc8fc\\uc81c(\\uadf8\\uc678-biological process)\",\"orientation\":\"v\",\"showlegend\":true,\"text\":[\"oxidative stress\"],\"x\":[6],\"xaxis\":\"x\",\"y\":[2],\"yaxis\":\"y\",\"type\":\"scatter\"},{\"hovertemplate\":\"<b>%{hovertext}</b><br><br>continent=source<br>year=2017<br>property=%{x}<br>frequency=%{y}<br>pop=%{marker.size}<br>text=%{text}<extra></extra>\",\"hovertext\":[\"source\"],\"ids\":[\"source\"],\"legendgroup\":\"source\",\"marker\":{\"color\":\"#FFA15A\",\"size\":[20],\"sizemode\":\"area\",\"sizeref\":0.04628099173553719,\"symbol\":\"circle\"},\"mode\":\"markers+text\",\"name\":\"source\",\"orientation\":\"v\",\"showlegend\":true,\"text\":[\"helicobacter pylori\"],\"x\":[2],\"xaxis\":\"x\",\"y\":[4],\"yaxis\":\"y\",\"type\":\"scatter\"}],\"name\":\"2017\"},{\"data\":[{\"hovertemplate\":\"<b>%{hovertext}</b><br><br>continent=material<br>year=2018<br>property=%{x}<br>frequency=%{y}<br>pop=%{marker.size}<br>text=%{text}<extra></extra>\",\"hovertext\":[\"material\"],\"ids\":[\"material\"],\"legendgroup\":\"material\",\"marker\":{\"color\":\"#636efa\",\"size\":[110],\"sizemode\":\"area\",\"sizeref\":0.04628099173553719,\"symbol\":\"circle\"},\"mode\":\"markers+text\",\"name\":\"material\",\"orientation\":\"v\",\"showlegend\":true,\"text\":[\"nuclease\"],\"x\":[13],\"xaxis\":\"x\",\"y\":[22],\"yaxis\":\"y\",\"type\":\"scatter\"},{\"hovertemplate\":\"<b>%{hovertext}</b><br><br>continent=\\uc5f0\\uad6c\\uc8fc\\uc81c(\\ud2b9\\uc131)<br>year=2018<br>property=%{x}<br>frequency=%{y}<br>pop=%{marker.size}<br>text=%{text}<extra></extra>\",\"hovertext\":[\"\\uc5f0\\uad6c\\uc8fc\\uc81c\"],\"ids\":[\"\\uc5f0\\uad6c\\uc8fc\\uc81c\"],\"legendgroup\":\"\\uc5f0\\uad6c\\uc8fc\\uc81c(\\ud2b9\\uc131)\",\"marker\":{\"color\":\"#EF553B\",\"size\":[15],\"sizemode\":\"area\",\"sizeref\":0.04628099173553719,\"symbol\":\"circle\"},\"mode\":\"markers+text\",\"name\":\"\\uc5f0\\uad6c\\uc8fc\\uc81c(\\ud2b9\\uc131)\",\"orientation\":\"v\",\"showlegend\":true,\"text\":[\"dimerization\"],\"x\":[10],\"xaxis\":\"x\",\"y\":[3],\"yaxis\":\"y\",\"type\":\"scatter\"},{\"hovertemplate\":\"<b>%{hovertext}</b><br><br>continent=\\uc5f0\\uad6c\\uc8fc\\uc81c(\\uadf8\\uc678-biological process)<br>year=2018<br>property=%{x}<br>frequency=%{y}<br>pop=%{marker.size}<br>text=%{text}<extra></extra>\",\"hovertext\":[\"\\uc5f0\\uad6c\\uc8fc\\uc81c\"],\"ids\":[\"\\uc5f0\\uad6c\\uc8fc\\uc81c\"],\"legendgroup\":\"\\uc5f0\\uad6c\\uc8fc\\uc81c(\\uadf8\\uc678-biological process)\",\"marker\":{\"color\":\"#00cc96\",\"size\":[10],\"sizemode\":\"area\",\"sizeref\":0.04628099173553719,\"symbol\":\"circle\"},\"mode\":\"markers+text\",\"name\":\"\\uc5f0\\uad6c\\uc8fc\\uc81c(\\uadf8\\uc678-biological process)\",\"orientation\":\"v\",\"showlegend\":true,\"text\":[\"phosphotransferase system\"],\"x\":[6],\"xaxis\":\"x\",\"y\":[2],\"yaxis\":\"y\",\"type\":\"scatter\"},{\"hovertemplate\":\"<b>%{hovertext}</b><br><br>continent=source<br>year=2018<br>property=%{x}<br>frequency=%{y}<br>pop=%{marker.size}<br>text=%{text}<extra></extra>\",\"hovertext\":[\"source\"],\"ids\":[\"source\"],\"legendgroup\":\"source\",\"marker\":{\"color\":\"#FFA15A\",\"size\":[45],\"sizemode\":\"area\",\"sizeref\":0.04628099173553719,\"symbol\":\"circle\"},\"mode\":\"markers+text\",\"name\":\"source\",\"orientation\":\"v\",\"showlegend\":true,\"text\":[\"cynanchum atratum\"],\"x\":[2],\"xaxis\":\"x\",\"y\":[9],\"yaxis\":\"y\",\"type\":\"scatter\"}],\"name\":\"2018\"},{\"data\":[{\"hovertemplate\":\"<b>%{hovertext}</b><br><br>continent=material<br>year=2019<br>property=%{x}<br>frequency=%{y}<br>pop=%{marker.size}<br>text=%{text}<extra></extra>\",\"hovertext\":[\"material\"],\"ids\":[\"material\"],\"legendgroup\":\"material\",\"marker\":{\"color\":\"#636efa\",\"size\":[15],\"sizemode\":\"area\",\"sizeref\":0.04628099173553719,\"symbol\":\"circle\"},\"mode\":\"markers+text\",\"name\":\"material\",\"orientation\":\"v\",\"showlegend\":true,\"text\":[\"mul1\"],\"x\":[13],\"xaxis\":\"x\",\"y\":[3],\"yaxis\":\"y\",\"type\":\"scatter\"},{\"hovertemplate\":\"<b>%{hovertext}</b><br><br>continent=\\uc5f0\\uad6c\\uc8fc\\uc81c(\\ud2b9\\uc131)<br>year=2019<br>property=%{x}<br>frequency=%{y}<br>pop=%{marker.size}<br>text=%{text}<extra></extra>\",\"hovertext\":[\"\\uc5f0\\uad6c\\uc8fc\\uc81c\"],\"ids\":[\"\\uc5f0\\uad6c\\uc8fc\\uc81c\"],\"legendgroup\":\"\\uc5f0\\uad6c\\uc8fc\\uc81c(\\ud2b9\\uc131)\",\"marker\":{\"color\":\"#EF553B\",\"size\":[5],\"sizemode\":\"area\",\"sizeref\":0.04628099173553719,\"symbol\":\"circle\"},\"mode\":\"markers+text\",\"name\":\"\\uc5f0\\uad6c\\uc8fc\\uc81c(\\ud2b9\\uc131)\",\"orientation\":\"v\",\"showlegend\":true,\"text\":[\"solution structure\"],\"x\":[10],\"xaxis\":\"x\",\"y\":[1],\"yaxis\":\"y\",\"type\":\"scatter\"},{\"hovertemplate\":\"<b>%{hovertext}</b><br><br>continent=\\uc5f0\\uad6c\\uc8fc\\uc81c(\\uadf8\\uc678-biological process)<br>year=2019<br>property=%{x}<br>frequency=%{y}<br>pop=%{marker.size}<br>text=%{text}<extra></extra>\",\"hovertext\":[\"\\uc5f0\\uad6c\\uc8fc\\uc81c\"],\"ids\":[\"\\uc5f0\\uad6c\\uc8fc\\uc81c\"],\"legendgroup\":\"\\uc5f0\\uad6c\\uc8fc\\uc81c(\\uadf8\\uc678-biological process)\",\"marker\":{\"color\":\"#00cc96\",\"size\":[0],\"sizemode\":\"area\",\"sizeref\":0.04628099173553719,\"symbol\":\"circle\"},\"mode\":\"markers+text\",\"name\":\"\\uc5f0\\uad6c\\uc8fc\\uc81c(\\uadf8\\uc678-biological process)\",\"orientation\":\"v\",\"showlegend\":true,\"text\":[null],\"x\":[6],\"xaxis\":\"x\",\"y\":[0],\"yaxis\":\"y\",\"type\":\"scatter\"},{\"hovertemplate\":\"<b>%{hovertext}</b><br><br>continent=source<br>year=2019<br>property=%{x}<br>frequency=%{y}<br>pop=%{marker.size}<br>text=%{text}<extra></extra>\",\"hovertext\":[\"source\"],\"ids\":[\"source\"],\"legendgroup\":\"source\",\"marker\":{\"color\":\"#FFA15A\",\"size\":[0],\"sizemode\":\"area\",\"sizeref\":0.04628099173553719,\"symbol\":\"circle\"},\"mode\":\"markers+text\",\"name\":\"source\",\"orientation\":\"v\",\"showlegend\":true,\"text\":[null],\"x\":[2],\"xaxis\":\"x\",\"y\":[0],\"yaxis\":\"y\",\"type\":\"scatter\"}],\"name\":\"2019\"},{\"data\":[{\"hovertemplate\":\"<b>%{hovertext}</b><br><br>continent=material<br>year=2020<br>property=%{x}<br>frequency=%{y}<br>pop=%{marker.size}<br>text=%{text}<extra></extra>\",\"hovertext\":[\"material\"],\"ids\":[\"material\"],\"legendgroup\":\"material\",\"marker\":{\"color\":\"#636efa\",\"size\":[85],\"sizemode\":\"area\",\"sizeref\":0.04628099173553719,\"symbol\":\"circle\"},\"mode\":\"markers+text\",\"name\":\"material\",\"orientation\":\"v\",\"showlegend\":true,\"text\":[\"dna\"],\"x\":[13],\"xaxis\":\"x\",\"y\":[17],\"yaxis\":\"y\",\"type\":\"scatter\"},{\"hovertemplate\":\"<b>%{hovertext}</b><br><br>continent=\\uc5f0\\uad6c\\uc8fc\\uc81c(\\ud2b9\\uc131)<br>year=2020<br>property=%{x}<br>frequency=%{y}<br>pop=%{marker.size}<br>text=%{text}<extra></extra>\",\"hovertext\":[\"\\uc5f0\\uad6c\\uc8fc\\uc81c\"],\"ids\":[\"\\uc5f0\\uad6c\\uc8fc\\uc81c\"],\"legendgroup\":\"\\uc5f0\\uad6c\\uc8fc\\uc81c(\\ud2b9\\uc131)\",\"marker\":{\"color\":\"#EF553B\",\"size\":[25],\"sizemode\":\"area\",\"sizeref\":0.04628099173553719,\"symbol\":\"circle\"},\"mode\":\"markers+text\",\"name\":\"\\uc5f0\\uad6c\\uc8fc\\uc81c(\\ud2b9\\uc131)\",\"orientation\":\"v\",\"showlegend\":true,\"text\":[\"metabolomics\"],\"x\":[10],\"xaxis\":\"x\",\"y\":[5],\"yaxis\":\"y\",\"type\":\"scatter\"},{\"hovertemplate\":\"<b>%{hovertext}</b><br><br>continent=\\uc5f0\\uad6c\\uc8fc\\uc81c(\\uadf8\\uc678-biological process)<br>year=2020<br>property=%{x}<br>frequency=%{y}<br>pop=%{marker.size}<br>text=%{text}<extra></extra>\",\"hovertext\":[\"\\uc5f0\\uad6c\\uc8fc\\uc81c\"],\"ids\":[\"\\uc5f0\\uad6c\\uc8fc\\uc81c\"],\"legendgroup\":\"\\uc5f0\\uad6c\\uc8fc\\uc81c(\\uadf8\\uc678-biological process)\",\"marker\":{\"color\":\"#00cc96\",\"size\":[0],\"sizemode\":\"area\",\"sizeref\":0.04628099173553719,\"symbol\":\"circle\"},\"mode\":\"markers+text\",\"name\":\"\\uc5f0\\uad6c\\uc8fc\\uc81c(\\uadf8\\uc678-biological process)\",\"orientation\":\"v\",\"showlegend\":true,\"text\":[null],\"x\":[6],\"xaxis\":\"x\",\"y\":[0],\"yaxis\":\"y\",\"type\":\"scatter\"},{\"hovertemplate\":\"<b>%{hovertext}</b><br><br>continent=source<br>year=2020<br>property=%{x}<br>frequency=%{y}<br>pop=%{marker.size}<br>text=%{text}<extra></extra>\",\"hovertext\":[\"source\"],\"ids\":[\"source\"],\"legendgroup\":\"source\",\"marker\":{\"color\":\"#FFA15A\",\"size\":[30],\"sizemode\":\"area\",\"sizeref\":0.04628099173553719,\"symbol\":\"circle\"},\"mode\":\"markers+text\",\"name\":\"source\",\"orientation\":\"v\",\"showlegend\":true,\"text\":[\"soybean gen\"],\"x\":[2],\"xaxis\":\"x\",\"y\":[6],\"yaxis\":\"y\",\"type\":\"scatter\"}],\"name\":\"2020\"},{\"data\":[{\"hovertemplate\":\"<b>%{hovertext}</b><br><br>continent=material<br>year=2021<br>property=%{x}<br>frequency=%{y}<br>pop=%{marker.size}<br>text=%{text}<extra></extra>\",\"hovertext\":[\"material\"],\"ids\":[\"material\"],\"legendgroup\":\"material\",\"marker\":{\"color\":\"#636efa\",\"size\":[65],\"sizemode\":\"area\",\"sizeref\":0.04628099173553719,\"symbol\":\"circle\"},\"mode\":\"markers+text\",\"name\":\"material\",\"orientation\":\"v\",\"showlegend\":true,\"text\":[\"prednisone\"],\"x\":[13],\"xaxis\":\"x\",\"y\":[13],\"yaxis\":\"y\",\"type\":\"scatter\"},{\"hovertemplate\":\"<b>%{hovertext}</b><br><br>continent=\\uc5f0\\uad6c\\uc8fc\\uc81c(\\ud2b9\\uc131)<br>year=2021<br>property=%{x}<br>frequency=%{y}<br>pop=%{marker.size}<br>text=%{text}<extra></extra>\",\"hovertext\":[\"\\uc5f0\\uad6c\\uc8fc\\uc81c\"],\"ids\":[\"\\uc5f0\\uad6c\\uc8fc\\uc81c\"],\"legendgroup\":\"\\uc5f0\\uad6c\\uc8fc\\uc81c(\\ud2b9\\uc131)\",\"marker\":{\"color\":\"#EF553B\",\"size\":[40],\"sizemode\":\"area\",\"sizeref\":0.04628099173553719,\"symbol\":\"circle\"},\"mode\":\"markers+text\",\"name\":\"\\uc5f0\\uad6c\\uc8fc\\uc81c(\\ud2b9\\uc131)\",\"orientation\":\"v\",\"showlegend\":true,\"text\":[\"metabolomics\"],\"x\":[10],\"xaxis\":\"x\",\"y\":[8],\"yaxis\":\"y\",\"type\":\"scatter\"},{\"hovertemplate\":\"<b>%{hovertext}</b><br><br>continent=\\uc5f0\\uad6c\\uc8fc\\uc81c(\\uadf8\\uc678-biological process)<br>year=2021<br>property=%{x}<br>frequency=%{y}<br>pop=%{marker.size}<br>text=%{text}<extra></extra>\",\"hovertext\":[\"\\uc5f0\\uad6c\\uc8fc\\uc81c\"],\"ids\":[\"\\uc5f0\\uad6c\\uc8fc\\uc81c\"],\"legendgroup\":\"\\uc5f0\\uad6c\\uc8fc\\uc81c(\\uadf8\\uc678-biological process)\",\"marker\":{\"color\":\"#00cc96\",\"size\":[20],\"sizemode\":\"area\",\"sizeref\":0.04628099173553719,\"symbol\":\"circle\"},\"mode\":\"markers+text\",\"name\":\"\\uc5f0\\uad6c\\uc8fc\\uc81c(\\uadf8\\uc678-biological process)\",\"orientation\":\"v\",\"showlegend\":true,\"text\":[\"rainfall\"],\"x\":[6],\"xaxis\":\"x\",\"y\":[4],\"yaxis\":\"y\",\"type\":\"scatter\"},{\"hovertemplate\":\"<b>%{hovertext}</b><br><br>continent=source<br>year=2021<br>property=%{x}<br>frequency=%{y}<br>pop=%{marker.size}<br>text=%{text}<extra></extra>\",\"hovertext\":[\"source\"],\"ids\":[\"source\"],\"legendgroup\":\"source\",\"marker\":{\"color\":\"#FFA15A\",\"size\":[30],\"sizemode\":\"area\",\"sizeref\":0.04628099173553719,\"symbol\":\"circle\"},\"mode\":\"markers+text\",\"name\":\"source\",\"orientation\":\"v\",\"showlegend\":true,\"text\":[\"tea\"],\"x\":[2],\"xaxis\":\"x\",\"y\":[6],\"yaxis\":\"y\",\"type\":\"scatter\"}],\"name\":\"2021\"}]);\n",
       "                        }).then(function(){\n",
       "                            \n",
       "var gd = document.getElementById('773e1c80-a2b3-4aaf-ab13-5bb28edc6add');\n",
       "var x = new MutationObserver(function (mutations, observer) {{\n",
       "        var display = window.getComputedStyle(gd).display;\n",
       "        if (!display || display === 'none') {{\n",
       "            console.log([gd, 'removed!']);\n",
       "            Plotly.purge(gd);\n",
       "            observer.disconnect();\n",
       "        }}\n",
       "}});\n",
       "\n",
       "// Listen for the removal of the full notebook cells\n",
       "var notebookContainer = gd.closest('#notebook-container');\n",
       "if (notebookContainer) {{\n",
       "    x.observe(notebookContainer, {childList: true});\n",
       "}}\n",
       "\n",
       "// Listen for the clearing of the current output cell\n",
       "var outputEl = gd.closest('.output');\n",
       "if (outputEl) {{\n",
       "    x.observe(outputEl, {childList: true});\n",
       "}}\n",
       "\n",
       "                        })                };                });            </script>        </div>"
      ]
     },
     "metadata": {},
     "output_type": "display_data"
    }
   ],
   "source": [
    "import plotly.express as px\n",
    "\n",
    "df = px.data.gapminder()\n",
    "fig = px.scatter(test_data, x=\"property\", y=\"frequency\", animation_frame=\"year\", animation_group=\"country\",\n",
    "           size=\"pop\", color=\"continent\", hover_name=\"country\",\n",
    "            text = \"text\",\n",
    "           log_x=True, size_max=55, range_x=[1,15], range_y=[-1,50])\n",
    "\n",
    "fig[\"layout\"].pop(\"updatemenus\") # optional, drop animation buttons\n",
    "fig.show()"
   ]
  },
  {
   "cell_type": "code",
   "execution_count": 11,
   "id": "7a15a15d",
   "metadata": {},
   "outputs": [],
   "source": [
    "username = 'kimmingeun'\n",
    "api_key = '5bKc1rIWAyoyR1V65p0X'\n",
    "chart_studio.tools.set_credentials_file(username=username, api_key=api_key)"
   ]
  },
  {
   "cell_type": "code",
   "execution_count": 12,
   "id": "630e3421",
   "metadata": {},
   "outputs": [
    {
     "data": {
      "text/plain": [
       "'https://plotly.com/~kimmingeun/1/'"
      ]
     },
     "execution_count": 12,
     "metadata": {},
     "output_type": "execute_result"
    }
   ],
   "source": [
    "import chart_studio.plotly as py\n",
    "py.plot(fig, filename = 'gdp_per_cap', auto_open=True)"
   ]
  },
  {
   "cell_type": "code",
   "execution_count": 13,
   "id": "95642d54",
   "metadata": {},
   "outputs": [
    {
     "data": {
      "text/plain": [
       "'<iframe id=\"igraph\" scrolling=\"no\" style=\"border:none;\" seamless=\"seamless\" src=\"https://plotly.com/~kimmingeun/1.embed\" height=\"525\" width=\"100%\"></iframe>'"
      ]
     },
     "execution_count": 13,
     "metadata": {},
     "output_type": "execute_result"
    }
   ],
   "source": [
    "import chart_studio.tools as tls\n",
    "tls.get_embed('https://plotly.com/~kimmingeun/1/')"
   ]
  },
  {
   "cell_type": "code",
   "execution_count": null,
   "id": "6e93b60c",
   "metadata": {},
   "outputs": [],
   "source": []
  }
 ],
 "metadata": {
  "kernelspec": {
   "display_name": "Python 3 (ipykernel)",
   "language": "python",
   "name": "python3"
  },
  "language_info": {
   "codemirror_mode": {
    "name": "ipython",
    "version": 3
   },
   "file_extension": ".py",
   "mimetype": "text/x-python",
   "name": "python",
   "nbconvert_exporter": "python",
   "pygments_lexer": "ipython3",
   "version": "3.8.0"
  }
 },
 "nbformat": 4,
 "nbformat_minor": 5
}
